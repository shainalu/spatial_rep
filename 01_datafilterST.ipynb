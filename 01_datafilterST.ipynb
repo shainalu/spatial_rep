{
 "cells": [
  {
   "cell_type": "code",
   "execution_count": 1,
   "metadata": {},
   "outputs": [
    {
     "data": {
      "text/plain": [
       "'\\nFirst notebook to open, explore, and filter full ST dataset from Cantin\\n\\nShaina Lu\\nZador & Gillis Labs\\nMarch 2020\\n'"
      ]
     },
     "execution_count": 1,
     "metadata": {},
     "output_type": "execute_result"
    }
   ],
   "source": [
    "\"\"\"\n",
    "First notebook to open, explore, and filter full ST dataset from Cantin\n",
    "\n",
    "Shaina Lu\n",
    "Zador & Gillis Labs\n",
    "March 2020\n",
    "\"\"\""
   ]
  },
  {
   "cell_type": "code",
   "execution_count": 2,
   "metadata": {},
   "outputs": [],
   "source": [
    "%matplotlib inline\n",
    "import matplotlib.pyplot as plt\n",
    "import h5py\n",
    "import pandas as pd\n",
    "import numpy as np\n",
    "import seaborn as sns"
   ]
  },
  {
   "cell_type": "markdown",
   "metadata": {},
   "source": [
    "# Read in Full ST Data"
   ]
  },
  {
   "cell_type": "code",
   "execution_count": 3,
   "metadata": {},
   "outputs": [],
   "source": [
    "EXPRS_FILE = \"/data/slu/cantin_ST/exprmat.tsv\"\n",
    "SPOTSMETA_FILE = \"/data/slu/cantin_ST/spotstable.tsv\"\n",
    "EXPTMETA_FILE = \"/data/slu/cantin_ST/slicestable.tsv\"\n",
    "CLUSTER_FILE = \"/data/slu/cantin_ST/cluster-id-name.csv\"\n",
    "RES_FILE = \"/data/slu/cantin_ST/res-29.tsv\""
   ]
  },
  {
   "cell_type": "code",
   "execution_count": 4,
   "metadata": {},
   "outputs": [],
   "source": [
    "exprsdata = pd.read_csv(EXPRS_FILE, sep='\\t',header=0, index_col=0, quoting=3)"
   ]
  },
  {
   "cell_type": "code",
   "execution_count": 5,
   "metadata": {},
   "outputs": [
    {
     "data": {
      "text/html": [
       "<div>\n",
       "<style scoped>\n",
       "    .dataframe tbody tr th:only-of-type {\n",
       "        vertical-align: middle;\n",
       "    }\n",
       "\n",
       "    .dataframe tbody tr th {\n",
       "        vertical-align: top;\n",
       "    }\n",
       "\n",
       "    .dataframe thead th {\n",
       "        text-align: right;\n",
       "    }\n",
       "</style>\n",
       "<table border=\"1\" class=\"dataframe\">\n",
       "  <thead>\n",
       "    <tr style=\"text-align: right;\">\n",
       "      <th></th>\n",
       "      <th>Gnai3</th>\n",
       "      <th>Cdc45</th>\n",
       "      <th>Scml2</th>\n",
       "      <th>Apoh</th>\n",
       "      <th>Narf</th>\n",
       "      <th>Cav2</th>\n",
       "      <th>Klf6</th>\n",
       "      <th>Scmh1</th>\n",
       "      <th>Cox5a</th>\n",
       "      <th>Tbx2</th>\n",
       "      <th>...</th>\n",
       "      <th>Gm17056</th>\n",
       "      <th>Platr19</th>\n",
       "      <th>Olfr457</th>\n",
       "      <th>Defa2</th>\n",
       "      <th>Olfr628</th>\n",
       "      <th>Gm16982</th>\n",
       "      <th>Mir155hg</th>\n",
       "      <th>X6430562O15Rik</th>\n",
       "      <th>Olfr1386</th>\n",
       "      <th>RP24.502E20.6</th>\n",
       "    </tr>\n",
       "  </thead>\n",
       "  <tbody>\n",
       "    <tr>\n",
       "      <th>02A_15.8x13.04</th>\n",
       "      <td>0</td>\n",
       "      <td>0</td>\n",
       "      <td>0</td>\n",
       "      <td>0</td>\n",
       "      <td>0</td>\n",
       "      <td>0</td>\n",
       "      <td>0</td>\n",
       "      <td>0</td>\n",
       "      <td>0</td>\n",
       "      <td>0</td>\n",
       "      <td>...</td>\n",
       "      <td>0</td>\n",
       "      <td>0</td>\n",
       "      <td>0</td>\n",
       "      <td>0</td>\n",
       "      <td>0</td>\n",
       "      <td>0</td>\n",
       "      <td>0</td>\n",
       "      <td>0</td>\n",
       "      <td>0</td>\n",
       "      <td>0</td>\n",
       "    </tr>\n",
       "    <tr>\n",
       "      <th>02A_18.75x13.07</th>\n",
       "      <td>0</td>\n",
       "      <td>0</td>\n",
       "      <td>0</td>\n",
       "      <td>0</td>\n",
       "      <td>0</td>\n",
       "      <td>1</td>\n",
       "      <td>0</td>\n",
       "      <td>0</td>\n",
       "      <td>1</td>\n",
       "      <td>0</td>\n",
       "      <td>...</td>\n",
       "      <td>0</td>\n",
       "      <td>0</td>\n",
       "      <td>0</td>\n",
       "      <td>0</td>\n",
       "      <td>0</td>\n",
       "      <td>0</td>\n",
       "      <td>0</td>\n",
       "      <td>0</td>\n",
       "      <td>0</td>\n",
       "      <td>0</td>\n",
       "    </tr>\n",
       "    <tr>\n",
       "      <th>02A_16.74x13.07</th>\n",
       "      <td>0</td>\n",
       "      <td>0</td>\n",
       "      <td>0</td>\n",
       "      <td>0</td>\n",
       "      <td>0</td>\n",
       "      <td>0</td>\n",
       "      <td>1</td>\n",
       "      <td>0</td>\n",
       "      <td>0</td>\n",
       "      <td>0</td>\n",
       "      <td>...</td>\n",
       "      <td>0</td>\n",
       "      <td>0</td>\n",
       "      <td>0</td>\n",
       "      <td>0</td>\n",
       "      <td>0</td>\n",
       "      <td>0</td>\n",
       "      <td>0</td>\n",
       "      <td>0</td>\n",
       "      <td>0</td>\n",
       "      <td>0</td>\n",
       "    </tr>\n",
       "    <tr>\n",
       "      <th>02A_17.81x13.08</th>\n",
       "      <td>1</td>\n",
       "      <td>0</td>\n",
       "      <td>0</td>\n",
       "      <td>0</td>\n",
       "      <td>0</td>\n",
       "      <td>1</td>\n",
       "      <td>1</td>\n",
       "      <td>0</td>\n",
       "      <td>0</td>\n",
       "      <td>0</td>\n",
       "      <td>...</td>\n",
       "      <td>0</td>\n",
       "      <td>0</td>\n",
       "      <td>0</td>\n",
       "      <td>0</td>\n",
       "      <td>0</td>\n",
       "      <td>0</td>\n",
       "      <td>0</td>\n",
       "      <td>0</td>\n",
       "      <td>0</td>\n",
       "      <td>0</td>\n",
       "    </tr>\n",
       "    <tr>\n",
       "      <th>02A_19.96x14.09</th>\n",
       "      <td>0</td>\n",
       "      <td>0</td>\n",
       "      <td>0</td>\n",
       "      <td>0</td>\n",
       "      <td>0</td>\n",
       "      <td>1</td>\n",
       "      <td>0</td>\n",
       "      <td>0</td>\n",
       "      <td>0</td>\n",
       "      <td>0</td>\n",
       "      <td>...</td>\n",
       "      <td>0</td>\n",
       "      <td>0</td>\n",
       "      <td>0</td>\n",
       "      <td>0</td>\n",
       "      <td>0</td>\n",
       "      <td>0</td>\n",
       "      <td>0</td>\n",
       "      <td>0</td>\n",
       "      <td>0</td>\n",
       "      <td>0</td>\n",
       "    </tr>\n",
       "  </tbody>\n",
       "</table>\n",
       "<p>5 rows × 23371 columns</p>\n",
       "</div>"
      ],
      "text/plain": [
       "                 Gnai3  Cdc45  Scml2  Apoh  Narf  Cav2  Klf6  Scmh1  Cox5a  \\\n",
       "02A_15.8x13.04       0      0      0     0     0     0     0      0      0   \n",
       "02A_18.75x13.07      0      0      0     0     0     1     0      0      1   \n",
       "02A_16.74x13.07      0      0      0     0     0     0     1      0      0   \n",
       "02A_17.81x13.08      1      0      0     0     0     1     1      0      0   \n",
       "02A_19.96x14.09      0      0      0     0     0     1     0      0      0   \n",
       "\n",
       "                 Tbx2  ...  Gm17056  Platr19  Olfr457  Defa2  Olfr628  \\\n",
       "02A_15.8x13.04      0  ...        0        0        0      0        0   \n",
       "02A_18.75x13.07     0  ...        0        0        0      0        0   \n",
       "02A_16.74x13.07     0  ...        0        0        0      0        0   \n",
       "02A_17.81x13.08     0  ...        0        0        0      0        0   \n",
       "02A_19.96x14.09     0  ...        0        0        0      0        0   \n",
       "\n",
       "                 Gm16982  Mir155hg  X6430562O15Rik  Olfr1386  RP24.502E20.6  \n",
       "02A_15.8x13.04         0         0               0         0              0  \n",
       "02A_18.75x13.07        0         0               0         0              0  \n",
       "02A_16.74x13.07        0         0               0         0              0  \n",
       "02A_17.81x13.08        0         0               0         0              0  \n",
       "02A_19.96x14.09        0         0               0         0              0  \n",
       "\n",
       "[5 rows x 23371 columns]"
      ]
     },
     "execution_count": 5,
     "metadata": {},
     "output_type": "execute_result"
    }
   ],
   "source": [
    "exprsdata.head()"
   ]
  },
  {
   "cell_type": "code",
   "execution_count": 6,
   "metadata": {},
   "outputs": [
    {
     "data": {
      "text/plain": [
       "(34103, 23371)"
      ]
     },
     "execution_count": 6,
     "metadata": {},
     "output_type": "execute_result"
    }
   ],
   "source": [
    "exprsdata.shape"
   ]
  },
  {
   "cell_type": "code",
   "execution_count": 7,
   "metadata": {},
   "outputs": [],
   "source": [
    "spotsmeta = pd.read_csv(SPOTSMETA_FILE, sep='\\t',header=0, index_col=0, quoting=3)\n",
    "exptmeta = pd.read_csv(EXPTMETA_FILE, sep='\\t',header=0, index_col=0, quoting=3)"
   ]
  },
  {
   "cell_type": "code",
   "execution_count": 8,
   "metadata": {},
   "outputs": [
    {
     "name": "stdout",
     "output_type": "stream",
     "text": [
      "(34103, 10)\n"
     ]
    },
    {
     "data": {
      "text/html": [
       "<div>\n",
       "<style scoped>\n",
       "    .dataframe tbody tr th:only-of-type {\n",
       "        vertical-align: middle;\n",
       "    }\n",
       "\n",
       "    .dataframe tbody tr th {\n",
       "        vertical-align: top;\n",
       "    }\n",
       "\n",
       "    .dataframe thead th {\n",
       "        text-align: right;\n",
       "    }\n",
       "</style>\n",
       "<table border=\"1\" class=\"dataframe\">\n",
       "  <thead>\n",
       "    <tr style=\"text-align: right;\">\n",
       "      <th></th>\n",
       "      <th>slice_index</th>\n",
       "      <th>ML</th>\n",
       "      <th>DV</th>\n",
       "      <th>AP</th>\n",
       "      <th>acronym</th>\n",
       "      <th>name</th>\n",
       "      <th>nuclei</th>\n",
       "      <th>radius</th>\n",
       "      <th>x</th>\n",
       "      <th>y</th>\n",
       "    </tr>\n",
       "  </thead>\n",
       "  <tbody>\n",
       "    <tr>\n",
       "      <th>02A_15.8x13.04</th>\n",
       "      <td>02A</td>\n",
       "      <td>3.156438</td>\n",
       "      <td>-3.545032</td>\n",
       "      <td>2.245</td>\n",
       "      <td>MOp1</td>\n",
       "      <td>Primary motor area, Layer 1</td>\n",
       "      <td>3</td>\n",
       "      <td>72.832245</td>\n",
       "      <td>3479.641</td>\n",
       "      <td>4936.516</td>\n",
       "    </tr>\n",
       "    <tr>\n",
       "      <th>02A_18.75x13.07</th>\n",
       "      <td>02A</td>\n",
       "      <td>3.012475</td>\n",
       "      <td>-2.692800</td>\n",
       "      <td>2.245</td>\n",
       "      <td>MOp1</td>\n",
       "      <td>Primary motor area, Layer 1</td>\n",
       "      <td>1</td>\n",
       "      <td>76.475977</td>\n",
       "      <td>3491.171</td>\n",
       "      <td>4074.165</td>\n",
       "    </tr>\n",
       "    <tr>\n",
       "      <th>02A_16.74x13.07</th>\n",
       "      <td>02A</td>\n",
       "      <td>3.124975</td>\n",
       "      <td>-3.292800</td>\n",
       "      <td>2.245</td>\n",
       "      <td>MOp1</td>\n",
       "      <td>Primary motor area, Layer 1</td>\n",
       "      <td>1</td>\n",
       "      <td>75.797361</td>\n",
       "      <td>3488.927</td>\n",
       "      <td>4661.036</td>\n",
       "    </tr>\n",
       "    <tr>\n",
       "      <th>02A_17.81x13.08</th>\n",
       "      <td>02A</td>\n",
       "      <td>3.064854</td>\n",
       "      <td>-2.974134</td>\n",
       "      <td>2.245</td>\n",
       "      <td>MOp1</td>\n",
       "      <td>Primary motor area, Layer 1</td>\n",
       "      <td>5</td>\n",
       "      <td>73.206277</td>\n",
       "      <td>3493.646</td>\n",
       "      <td>4348.148</td>\n",
       "    </tr>\n",
       "    <tr>\n",
       "      <th>02A_19.96x14.09</th>\n",
       "      <td>02A</td>\n",
       "      <td>2.831225</td>\n",
       "      <td>-2.405300</td>\n",
       "      <td>2.245</td>\n",
       "      <td>MOp1</td>\n",
       "      <td>Primary motor area, Layer 1</td>\n",
       "      <td>2</td>\n",
       "      <td>77.408797</td>\n",
       "      <td>3783.901</td>\n",
       "      <td>3720.984</td>\n",
       "    </tr>\n",
       "  </tbody>\n",
       "</table>\n",
       "</div>"
      ],
      "text/plain": [
       "                slice_index        ML        DV     AP acronym  \\\n",
       "02A_15.8x13.04          02A  3.156438 -3.545032  2.245    MOp1   \n",
       "02A_18.75x13.07         02A  3.012475 -2.692800  2.245    MOp1   \n",
       "02A_16.74x13.07         02A  3.124975 -3.292800  2.245    MOp1   \n",
       "02A_17.81x13.08         02A  3.064854 -2.974134  2.245    MOp1   \n",
       "02A_19.96x14.09         02A  2.831225 -2.405300  2.245    MOp1   \n",
       "\n",
       "                                        name  nuclei     radius         x  \\\n",
       "02A_15.8x13.04   Primary motor area, Layer 1       3  72.832245  3479.641   \n",
       "02A_18.75x13.07  Primary motor area, Layer 1       1  76.475977  3491.171   \n",
       "02A_16.74x13.07  Primary motor area, Layer 1       1  75.797361  3488.927   \n",
       "02A_17.81x13.08  Primary motor area, Layer 1       5  73.206277  3493.646   \n",
       "02A_19.96x14.09  Primary motor area, Layer 1       2  77.408797  3783.901   \n",
       "\n",
       "                        y  \n",
       "02A_15.8x13.04   4936.516  \n",
       "02A_18.75x13.07  4074.165  \n",
       "02A_16.74x13.07  4661.036  \n",
       "02A_17.81x13.08  4348.148  \n",
       "02A_19.96x14.09  3720.984  "
      ]
     },
     "execution_count": 8,
     "metadata": {},
     "output_type": "execute_result"
    }
   ],
   "source": [
    "print(spotsmeta.shape)\n",
    "spotsmeta.head()"
   ]
  },
  {
   "cell_type": "code",
   "execution_count": 9,
   "metadata": {},
   "outputs": [
    {
     "name": "stdout",
     "output_type": "stream",
     "text": [
      "(75, 4)\n"
     ]
    },
    {
     "data": {
      "text/html": [
       "<div>\n",
       "<style scoped>\n",
       "    .dataframe tbody tr th:only-of-type {\n",
       "        vertical-align: middle;\n",
       "    }\n",
       "\n",
       "    .dataframe tbody tr th {\n",
       "        vertical-align: top;\n",
       "    }\n",
       "\n",
       "    .dataframe thead th {\n",
       "        text-align: right;\n",
       "    }\n",
       "</style>\n",
       "<table border=\"1\" class=\"dataframe\">\n",
       "  <thead>\n",
       "    <tr style=\"text-align: right;\">\n",
       "      <th></th>\n",
       "      <th>slice_old_id</th>\n",
       "      <th>AP</th>\n",
       "      <th>animal</th>\n",
       "      <th>rotation</th>\n",
       "    </tr>\n",
       "  </thead>\n",
       "  <tbody>\n",
       "    <tr>\n",
       "      <th>01A</th>\n",
       "      <td>ID9_C1</td>\n",
       "      <td>2.945</td>\n",
       "      <td>A2</td>\n",
       "      <td>90</td>\n",
       "    </tr>\n",
       "    <tr>\n",
       "      <th>01B</th>\n",
       "      <td>ID9_C2</td>\n",
       "      <td>2.945</td>\n",
       "      <td>A2</td>\n",
       "      <td>90</td>\n",
       "    </tr>\n",
       "    <tr>\n",
       "      <th>02A</th>\n",
       "      <td>ID1_D1</td>\n",
       "      <td>2.245</td>\n",
       "      <td>A1</td>\n",
       "      <td>-90</td>\n",
       "    </tr>\n",
       "    <tr>\n",
       "      <th>02B</th>\n",
       "      <td>ID1_D2</td>\n",
       "      <td>2.245</td>\n",
       "      <td>A1</td>\n",
       "      <td>-90</td>\n",
       "    </tr>\n",
       "    <tr>\n",
       "      <th>03A</th>\n",
       "      <td>ID1_E1</td>\n",
       "      <td>1.945</td>\n",
       "      <td>A1</td>\n",
       "      <td>-90</td>\n",
       "    </tr>\n",
       "  </tbody>\n",
       "</table>\n",
       "</div>"
      ],
      "text/plain": [
       "    slice_old_id     AP animal  rotation\n",
       "01A       ID9_C1  2.945     A2        90\n",
       "01B       ID9_C2  2.945     A2        90\n",
       "02A       ID1_D1  2.245     A1       -90\n",
       "02B       ID1_D2  2.245     A1       -90\n",
       "03A       ID1_E1  1.945     A1       -90"
      ]
     },
     "execution_count": 9,
     "metadata": {},
     "output_type": "execute_result"
    }
   ],
   "source": [
    "print(exptmeta.shape)\n",
    "exptmeta.head()"
   ]
  },
  {
   "cell_type": "code",
   "execution_count": 10,
   "metadata": {},
   "outputs": [],
   "source": [
    "#look that the remaining two files\n",
    "clusteridname = pd.read_csv(CLUSTER_FILE, sep=';',header=0, index_col=0, quoting=3)\n",
    "res29 = pd.read_csv(RES_FILE, sep='\\t',header=None, index_col=0, quoting=3)"
   ]
  },
  {
   "cell_type": "code",
   "execution_count": 11,
   "metadata": {},
   "outputs": [
    {
     "name": "stdout",
     "output_type": "stream",
     "text": [
      "(200, 3)\n"
     ]
    },
    {
     "data": {
      "text/html": [
       "<div>\n",
       "<style scoped>\n",
       "    .dataframe tbody tr th:only-of-type {\n",
       "        vertical-align: middle;\n",
       "    }\n",
       "\n",
       "    .dataframe tbody tr th {\n",
       "        vertical-align: top;\n",
       "    }\n",
       "\n",
       "    .dataframe thead th {\n",
       "        text-align: right;\n",
       "    }\n",
       "</style>\n",
       "<table border=\"1\" class=\"dataframe\">\n",
       "  <thead>\n",
       "    <tr style=\"text-align: right;\">\n",
       "      <th></th>\n",
       "      <th>\"cluster\"</th>\n",
       "      <th>\"count\"</th>\n",
       "      <th>\"kept\"</th>\n",
       "    </tr>\n",
       "    <tr>\n",
       "      <th>\"clusters.named\"</th>\n",
       "      <th></th>\n",
       "      <th></th>\n",
       "      <th></th>\n",
       "    </tr>\n",
       "  </thead>\n",
       "  <tbody>\n",
       "    <tr>\n",
       "      <th>\"fiber tracts-01\"</th>\n",
       "      <td>\"1\"</td>\n",
       "      <td>609</td>\n",
       "      <td>True</td>\n",
       "    </tr>\n",
       "    <tr>\n",
       "      <th>\"Isocortex-01\"</th>\n",
       "      <td>\"2\"</td>\n",
       "      <td>528</td>\n",
       "      <td>True</td>\n",
       "    </tr>\n",
       "    <tr>\n",
       "      <th>\"fiber tracts-02\"</th>\n",
       "      <td>\"3\"</td>\n",
       "      <td>459</td>\n",
       "      <td>True</td>\n",
       "    </tr>\n",
       "    <tr>\n",
       "      <th>\"Isocortex-02\"</th>\n",
       "      <td>\"4\"</td>\n",
       "      <td>430</td>\n",
       "      <td>True</td>\n",
       "    </tr>\n",
       "    <tr>\n",
       "      <th>\"Isocortex-03\"</th>\n",
       "      <td>\"5\"</td>\n",
       "      <td>424</td>\n",
       "      <td>True</td>\n",
       "    </tr>\n",
       "  </tbody>\n",
       "</table>\n",
       "</div>"
      ],
      "text/plain": [
       "                  \"cluster\"  \"count\"  \"kept\"\n",
       "\"clusters.named\"                            \n",
       "\"fiber tracts-01\"       \"1\"      609    True\n",
       "\"Isocortex-01\"          \"2\"      528    True\n",
       "\"fiber tracts-02\"       \"3\"      459    True\n",
       "\"Isocortex-02\"          \"4\"      430    True\n",
       "\"Isocortex-03\"          \"5\"      424    True"
      ]
     },
     "execution_count": 11,
     "metadata": {},
     "output_type": "execute_result"
    }
   ],
   "source": [
    "print(clusteridname.shape)\n",
    "clusteridname.head()"
   ]
  },
  {
   "cell_type": "code",
   "execution_count": 12,
   "metadata": {},
   "outputs": [
    {
     "name": "stdout",
     "output_type": "stream",
     "text": [
      "(34053, 1)\n"
     ]
    },
    {
     "data": {
      "text/html": [
       "<div>\n",
       "<style scoped>\n",
       "    .dataframe tbody tr th:only-of-type {\n",
       "        vertical-align: middle;\n",
       "    }\n",
       "\n",
       "    .dataframe tbody tr th {\n",
       "        vertical-align: top;\n",
       "    }\n",
       "\n",
       "    .dataframe thead th {\n",
       "        text-align: right;\n",
       "    }\n",
       "</style>\n",
       "<table border=\"1\" class=\"dataframe\">\n",
       "  <thead>\n",
       "    <tr style=\"text-align: right;\">\n",
       "      <th></th>\n",
       "      <th>1</th>\n",
       "    </tr>\n",
       "    <tr>\n",
       "      <th>0</th>\n",
       "      <th></th>\n",
       "    </tr>\n",
       "  </thead>\n",
       "  <tbody>\n",
       "    <tr>\n",
       "      <th>02A_15.8x13.04</th>\n",
       "      <td>52</td>\n",
       "    </tr>\n",
       "    <tr>\n",
       "      <th>02A_18.75x13.07</th>\n",
       "      <td>21</td>\n",
       "    </tr>\n",
       "    <tr>\n",
       "      <th>02A_16.74x13.07</th>\n",
       "      <td>21</td>\n",
       "    </tr>\n",
       "    <tr>\n",
       "      <th>02A_17.81x13.08</th>\n",
       "      <td>21</td>\n",
       "    </tr>\n",
       "    <tr>\n",
       "      <th>02A_19.96x14.09</th>\n",
       "      <td>21</td>\n",
       "    </tr>\n",
       "  </tbody>\n",
       "</table>\n",
       "</div>"
      ],
      "text/plain": [
       "                  1\n",
       "0                  \n",
       "02A_15.8x13.04   52\n",
       "02A_18.75x13.07  21\n",
       "02A_16.74x13.07  21\n",
       "02A_17.81x13.08  21\n",
       "02A_19.96x14.09  21"
      ]
     },
     "execution_count": 12,
     "metadata": {},
     "output_type": "execute_result"
    }
   ],
   "source": [
    "print(res29.shape)\n",
    "res29.head()"
   ]
  },
  {
   "cell_type": "markdown",
   "metadata": {},
   "source": [
    "# propagate ontology"
   ]
  },
  {
   "cell_type": "markdown",
   "metadata": {},
   "source": [
    "__read in ontology data__"
   ]
  },
  {
   "cell_type": "code",
   "execution_count": 13,
   "metadata": {},
   "outputs": [],
   "source": [
    "ONTOLOGY_PATH = \"/data/slu/allen_adult_mouse_ISH/ontologyABA.csv\""
   ]
  },
  {
   "cell_type": "code",
   "execution_count": 14,
   "metadata": {},
   "outputs": [],
   "source": [
    "#read in ontology file\n",
    "ontology = pd.read_csv(ONTOLOGY_PATH)\n",
    "ontology = ontology.drop([ontology.columns[5], ontology.columns[6]], axis=1)\n",
    "ontology = ontology.fillna(-1)  #make root's parent -1"
   ]
  },
  {
   "cell_type": "code",
   "execution_count": 15,
   "metadata": {},
   "outputs": [
    {
     "data": {
      "text/html": [
       "<div>\n",
       "<style scoped>\n",
       "    .dataframe tbody tr th:only-of-type {\n",
       "        vertical-align: middle;\n",
       "    }\n",
       "\n",
       "    .dataframe tbody tr th {\n",
       "        vertical-align: top;\n",
       "    }\n",
       "\n",
       "    .dataframe thead th {\n",
       "        text-align: right;\n",
       "    }\n",
       "</style>\n",
       "<table border=\"1\" class=\"dataframe\">\n",
       "  <thead>\n",
       "    <tr style=\"text-align: right;\">\n",
       "      <th></th>\n",
       "      <th>id</th>\n",
       "      <th>acronym</th>\n",
       "      <th>name</th>\n",
       "      <th>parent</th>\n",
       "      <th>allencolor</th>\n",
       "    </tr>\n",
       "  </thead>\n",
       "  <tbody>\n",
       "    <tr>\n",
       "      <th>0</th>\n",
       "      <td>577</td>\n",
       "      <td>SSp-ul4</td>\n",
       "      <td>Primary somatosensory area, upper limb, layer 4</td>\n",
       "      <td>369.0</td>\n",
       "      <td>#188064</td>\n",
       "    </tr>\n",
       "    <tr>\n",
       "      <th>1</th>\n",
       "      <td>657</td>\n",
       "      <td>SSp-m2/3</td>\n",
       "      <td>Primary somatosensory area, mouth, layer 2/3</td>\n",
       "      <td>345.0</td>\n",
       "      <td>#188064</td>\n",
       "    </tr>\n",
       "    <tr>\n",
       "      <th>2</th>\n",
       "      <td>1114</td>\n",
       "      <td>VISal4</td>\n",
       "      <td>Anterolateral visual area, layer 4</td>\n",
       "      <td>402.0</td>\n",
       "      <td>#08858C</td>\n",
       "    </tr>\n",
       "    <tr>\n",
       "      <th>3</th>\n",
       "      <td>606</td>\n",
       "      <td>RSPv2</td>\n",
       "      <td>Retrosplenial area, ventral part, layer 2</td>\n",
       "      <td>886.0</td>\n",
       "      <td>#1AA698</td>\n",
       "    </tr>\n",
       "    <tr>\n",
       "      <th>4</th>\n",
       "      <td>472</td>\n",
       "      <td>MEApd-a</td>\n",
       "      <td>Medial amygdalar nucleus, posterodorsal part, ...</td>\n",
       "      <td>426.0</td>\n",
       "      <td>#80C0E2</td>\n",
       "    </tr>\n",
       "  </tbody>\n",
       "</table>\n",
       "</div>"
      ],
      "text/plain": [
       "     id   acronym                                               name  parent  \\\n",
       "0   577   SSp-ul4    Primary somatosensory area, upper limb, layer 4   369.0   \n",
       "1   657  SSp-m2/3       Primary somatosensory area, mouth, layer 2/3   345.0   \n",
       "2  1114    VISal4                 Anterolateral visual area, layer 4   402.0   \n",
       "3   606     RSPv2          Retrosplenial area, ventral part, layer 2   886.0   \n",
       "4   472   MEApd-a  Medial amygdalar nucleus, posterodorsal part, ...   426.0   \n",
       "\n",
       "  allencolor  \n",
       "0    #188064  \n",
       "1    #188064  \n",
       "2    #08858C  \n",
       "3    #1AA698  \n",
       "4    #80C0E2  "
      ]
     },
     "execution_count": 15,
     "metadata": {},
     "output_type": "execute_result"
    }
   ],
   "source": [
    "ontology.head()"
   ]
  },
  {
   "cell_type": "markdown",
   "metadata": {},
   "source": [
    "__first, propagate raw ontology__"
   ]
  },
  {
   "cell_type": "code",
   "execution_count": 16,
   "metadata": {},
   "outputs": [
    {
     "name": "stderr",
     "output_type": "stream",
     "text": [
      "/home/slu/miniconda3/lib/python3.7/site-packages/ipykernel_launcher.py:15: FutureWarning: `item` has been deprecated and will be removed in a future version\n",
      "  from ipykernel import kernelapp as app\n"
     ]
    }
   ],
   "source": [
    "#do this in a sloppy way that i know works\n",
    "#propogate first then look-up\n",
    "#goes up to the point where all labels are root\n",
    "proponto = pd.DataFrame()\n",
    "proponto[['id','1']] = ontology[['id', 'parent']]\n",
    "\n",
    "curr = 1\n",
    "while True:\n",
    "    #get series representing next level up\n",
    "    newcol = []\n",
    "    for i in range(proponto.shape[0]):\n",
    "        if proponto.iloc[i,curr] == -1:   #if already at parent of root, just give root again (-1)\n",
    "            newval = -1\n",
    "        else:\n",
    "            newval = ontology.loc[ontology[\"id\"] == int(proponto.iloc[i,curr]), \"parent\"].item()\n",
    "        newcol.append(newval)\n",
    "\n",
    "    if len(proponto[str(curr)].value_counts()) < 3:  #all are root after this point\n",
    "        break\n",
    "    proponto[str(curr+1)] = pd.Series(newcol)     #add series to df\n",
    "    curr += 1"
   ]
  },
  {
   "cell_type": "code",
   "execution_count": 17,
   "metadata": {},
   "outputs": [
    {
     "data": {
      "text/plain": [
       "-1.0      1281\n",
       " 997.0       6\n",
       "Name: 10, dtype: int64"
      ]
     },
     "execution_count": 17,
     "metadata": {},
     "output_type": "execute_result"
    }
   ],
   "source": [
    "#at 10 levels up, all labels are root\n",
    "#proponto.head()\n",
    "proponto.loc[:,'10'].value_counts()"
   ]
  },
  {
   "cell_type": "code",
   "execution_count": 18,
   "metadata": {},
   "outputs": [
    {
     "data": {
      "text/html": [
       "<div>\n",
       "<style scoped>\n",
       "    .dataframe tbody tr th:only-of-type {\n",
       "        vertical-align: middle;\n",
       "    }\n",
       "\n",
       "    .dataframe tbody tr th {\n",
       "        vertical-align: top;\n",
       "    }\n",
       "\n",
       "    .dataframe thead th {\n",
       "        text-align: right;\n",
       "    }\n",
       "</style>\n",
       "<table border=\"1\" class=\"dataframe\">\n",
       "  <thead>\n",
       "    <tr style=\"text-align: right;\">\n",
       "      <th></th>\n",
       "      <th>id</th>\n",
       "      <th>1</th>\n",
       "      <th>2</th>\n",
       "      <th>3</th>\n",
       "      <th>4</th>\n",
       "      <th>5</th>\n",
       "      <th>6</th>\n",
       "      <th>7</th>\n",
       "      <th>8</th>\n",
       "      <th>9</th>\n",
       "      <th>10</th>\n",
       "    </tr>\n",
       "  </thead>\n",
       "  <tbody>\n",
       "    <tr>\n",
       "      <th>0</th>\n",
       "      <td>577</td>\n",
       "      <td>369</td>\n",
       "      <td>322</td>\n",
       "      <td>453</td>\n",
       "      <td>315</td>\n",
       "      <td>695</td>\n",
       "      <td>688</td>\n",
       "      <td>567</td>\n",
       "      <td>8</td>\n",
       "      <td>997</td>\n",
       "      <td>997</td>\n",
       "    </tr>\n",
       "    <tr>\n",
       "      <th>1</th>\n",
       "      <td>657</td>\n",
       "      <td>345</td>\n",
       "      <td>322</td>\n",
       "      <td>453</td>\n",
       "      <td>315</td>\n",
       "      <td>695</td>\n",
       "      <td>688</td>\n",
       "      <td>567</td>\n",
       "      <td>8</td>\n",
       "      <td>997</td>\n",
       "      <td>997</td>\n",
       "    </tr>\n",
       "    <tr>\n",
       "      <th>2</th>\n",
       "      <td>1114</td>\n",
       "      <td>402</td>\n",
       "      <td>669</td>\n",
       "      <td>315</td>\n",
       "      <td>695</td>\n",
       "      <td>688</td>\n",
       "      <td>567</td>\n",
       "      <td>8</td>\n",
       "      <td>997</td>\n",
       "      <td>997</td>\n",
       "      <td>997</td>\n",
       "    </tr>\n",
       "    <tr>\n",
       "      <th>3</th>\n",
       "      <td>606</td>\n",
       "      <td>886</td>\n",
       "      <td>254</td>\n",
       "      <td>315</td>\n",
       "      <td>695</td>\n",
       "      <td>688</td>\n",
       "      <td>567</td>\n",
       "      <td>8</td>\n",
       "      <td>997</td>\n",
       "      <td>997</td>\n",
       "      <td>997</td>\n",
       "    </tr>\n",
       "    <tr>\n",
       "      <th>4</th>\n",
       "      <td>472</td>\n",
       "      <td>426</td>\n",
       "      <td>403</td>\n",
       "      <td>278</td>\n",
       "      <td>477</td>\n",
       "      <td>623</td>\n",
       "      <td>567</td>\n",
       "      <td>8</td>\n",
       "      <td>997</td>\n",
       "      <td>997</td>\n",
       "      <td>997</td>\n",
       "    </tr>\n",
       "  </tbody>\n",
       "</table>\n",
       "</div>"
      ],
      "text/plain": [
       "     id    1    2    3    4    5    6    7    8    9   10\n",
       "0   577  369  322  453  315  695  688  567    8  997  997\n",
       "1   657  345  322  453  315  695  688  567    8  997  997\n",
       "2  1114  402  669  315  695  688  567    8  997  997  997\n",
       "3   606  886  254  315  695  688  567    8  997  997  997\n",
       "4   472  426  403  278  477  623  567    8  997  997  997"
      ]
     },
     "execution_count": 18,
     "metadata": {},
     "output_type": "execute_result"
    }
   ],
   "source": [
    "proponto = proponto.astype(int)  #typecast as integer\n",
    "proponto = proponto.replace(to_replace=-1, value=997)  #replace root's parent (-1) with root (997)\n",
    "proponto.head()"
   ]
  },
  {
   "cell_type": "markdown",
   "metadata": {},
   "source": [
    "__now propagate full binary ontology for the ST spots themselves__"
   ]
  },
  {
   "cell_type": "code",
   "execution_count": 19,
   "metadata": {},
   "outputs": [],
   "source": [
    "#initiate full binary ontology dataframe\n",
    "fullontST = pd.DataFrame(index=exprsdata.index, columns=ontology.id, dtype=np.int64)\n",
    "fullontST.columns = fullontST.columns.astype(str)\n",
    "fullontST = fullontST.fillna(0) #make all entries 0"
   ]
  },
  {
   "cell_type": "code",
   "execution_count": 20,
   "metadata": {},
   "outputs": [
    {
     "name": "stderr",
     "output_type": "stream",
     "text": [
      "/home/slu/miniconda3/lib/python3.7/site-packages/ipykernel_launcher.py:2: FutureWarning: `item` has been deprecated and will be removed in a future version\n",
      "  \n"
     ]
    }
   ],
   "source": [
    "for i in range(len(spotsmeta.acronym.unique())): #for each unique brain area\n",
    "    currareaid = int(ontology.loc[ontology.acronym == spotsmeta.acronym.unique()[i], \"id\"].item())\n",
    "    tempareas = proponto.loc[proponto.id == currareaid, :] #get row representing that area propagated\n",
    "\n",
    "    for val in tempareas.values.flatten():\n",
    "        #set row,col entries to 1 \n",
    "        fullontST.loc[spotsmeta.acronym == spotsmeta.acronym.unique()[i], str(val)] = 1"
   ]
  },
  {
   "cell_type": "code",
   "execution_count": 21,
   "metadata": {},
   "outputs": [
    {
     "data": {
      "text/plain": [
       "(34103, 1287)"
      ]
     },
     "execution_count": 21,
     "metadata": {},
     "output_type": "execute_result"
    }
   ],
   "source": [
    "fullontST.head()\n",
    "fullontST.shape"
   ]
  },
  {
   "cell_type": "markdown",
   "metadata": {},
   "source": [
    "__remove spots that map to ventricular systems of fiber tracts__"
   ]
  },
  {
   "cell_type": "code",
   "execution_count": 22,
   "metadata": {},
   "outputs": [
    {
     "name": "stdout",
     "output_type": "stream",
     "text": [
      "251.0\n",
      "3072.0\n"
     ]
    }
   ],
   "source": [
    "#ventricular systesm - 251 spots map here\n",
    "print(fullontST.loc[:,\"73\"].sum())\n",
    "#fiber tracts - 3072 map here\n",
    "print(fullontST.loc[:,\"1009\"].sum())"
   ]
  },
  {
   "cell_type": "code",
   "execution_count": 23,
   "metadata": {},
   "outputs": [],
   "source": [
    "#get the ventricular and fibertract spots\n",
    "vsspots = fullontST.loc[fullontST[\"73\"]==1, \"73\"].index\n",
    "fibspots = fullontST.loc[fullontST[\"1009\"]==1, \"1009\"].index"
   ]
  },
  {
   "cell_type": "code",
   "execution_count": 24,
   "metadata": {},
   "outputs": [],
   "source": [
    "#remove the ventricular and fiber tract spots\n",
    "fullontST.drop(labels=vsspots, axis=0, inplace=True)\n",
    "exprsdata.drop(labels=vsspots, axis=0, inplace=True)\n",
    "spotsmeta.drop(labels=vsspots, axis=0, inplace=True)\n",
    "\n",
    "fullontST.drop(labels=fibspots, axis=0, inplace=True)\n",
    "exprsdata.drop(labels=fibspots, axis=0, inplace=True)\n",
    "spotsmeta.drop(labels=fibspots, axis=0, inplace=True)"
   ]
  },
  {
   "cell_type": "code",
   "execution_count": 25,
   "metadata": {},
   "outputs": [
    {
     "name": "stdout",
     "output_type": "stream",
     "text": [
      "(30780, 1287)\n",
      "(30780, 23371)\n",
      "(30780, 10)\n"
     ]
    }
   ],
   "source": [
    "print(fullontST.shape)\n",
    "print(exprsdata.shape)\n",
    "print(spotsmeta.shape)"
   ]
  },
  {
   "cell_type": "markdown",
   "metadata": {},
   "source": [
    "# Filter"
   ]
  },
  {
   "cell_type": "markdown",
   "metadata": {},
   "source": [
    "__remove spots that do not map to the brain__ "
   ]
  },
  {
   "cell_type": "code",
   "execution_count": 26,
   "metadata": {},
   "outputs": [],
   "source": [
    "#spotsmeta.acronym.unique()"
   ]
  },
  {
   "cell_type": "markdown",
   "metadata": {},
   "source": [
    "It appears that all spots here do map to the brain "
   ]
  },
  {
   "cell_type": "markdown",
   "metadata": {},
   "source": [
    "__remove genes that only contain expression in less than X% of samples__"
   ]
  },
  {
   "cell_type": "code",
   "execution_count": 26,
   "metadata": {},
   "outputs": [],
   "source": [
    "#count number of spots for each gene that has a non-zero exprs value\n",
    "nonzerocount = exprsdata.astype(bool).sum(axis=0)"
   ]
  },
  {
   "cell_type": "code",
   "execution_count": 27,
   "metadata": {},
   "outputs": [],
   "source": [
    "#filter for genes having expression in at least 0.1% of samples\n",
    "exprsdata_filt = exprsdata.loc[:, nonzerocount > (0.001*exprsdata.shape[0])]"
   ]
  },
  {
   "cell_type": "code",
   "execution_count": 28,
   "metadata": {},
   "outputs": [
    {
     "data": {
      "text/plain": [
       "(30780, 16557)"
      ]
     },
     "execution_count": 28,
     "metadata": {},
     "output_type": "execute_result"
    }
   ],
   "source": [
    "exprsdata_filt.shape"
   ]
  },
  {
   "cell_type": "markdown",
   "metadata": {},
   "source": [
    "# add id col to meta data"
   ]
  },
  {
   "cell_type": "markdown",
   "metadata": {},
   "source": [
    "lots of my code from before uses the brain id column, so instead of re-doing this "
   ]
  },
  {
   "cell_type": "code",
   "execution_count": 29,
   "metadata": {},
   "outputs": [],
   "source": [
    "temp = dict(zip(ontology.loc[:,\"acronym\"], ontology.loc[:,\"id\"]))\n",
    "ids = []\n",
    "for val in spotsmeta.acronym.values:\n",
    "    ids.append(temp[val])"
   ]
  },
  {
   "cell_type": "code",
   "execution_count": 30,
   "metadata": {},
   "outputs": [],
   "source": [
    "spotsmeta[\"id\"] = ids"
   ]
  },
  {
   "cell_type": "code",
   "execution_count": 31,
   "metadata": {},
   "outputs": [
    {
     "data": {
      "text/plain": [
       "(30780, 11)"
      ]
     },
     "execution_count": 31,
     "metadata": {},
     "output_type": "execute_result"
    }
   ],
   "source": [
    "spotsmeta.head()\n",
    "spotsmeta.shape"
   ]
  },
  {
   "cell_type": "markdown",
   "metadata": {},
   "source": [
    "# Write to new hdf5"
   ]
  },
  {
   "cell_type": "markdown",
   "metadata": {},
   "source": [
    "only write the exprsdata and spotsmeta dataframes since the other three files are unchanged from cantin \\\n",
    "also write propagated ontology"
   ]
  },
  {
   "cell_type": "code",
   "execution_count": 32,
   "metadata": {},
   "outputs": [],
   "source": [
    "OUT_PATH = \"cantin_ST_filt_v2.h5\""
   ]
  },
  {
   "cell_type": "code",
   "execution_count": 33,
   "metadata": {},
   "outputs": [],
   "source": [
    "exprsdata_filt.to_hdf(OUT_PATH, key=\"STspots\", mode='w')\n",
    "spotsmeta.to_hdf(OUT_PATH, key=\"STspotsmeta\")\n",
    "fullontST.to_hdf(OUT_PATH, key=\"STpropont\")"
   ]
  },
  {
   "cell_type": "code",
   "execution_count": null,
   "metadata": {},
   "outputs": [],
   "source": []
  }
 ],
 "metadata": {
  "kernelspec": {
   "display_name": "Python 3",
   "language": "python",
   "name": "python3"
  },
  "language_info": {
   "codemirror_mode": {
    "name": "ipython",
    "version": 3
   },
   "file_extension": ".py",
   "mimetype": "text/x-python",
   "name": "python",
   "nbconvert_exporter": "python",
   "pygments_lexer": "ipython3",
   "version": "3.7.3"
  }
 },
 "nbformat": 4,
 "nbformat_minor": 4
}
