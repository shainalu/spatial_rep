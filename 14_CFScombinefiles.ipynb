{
 "cells": [
  {
   "cell_type": "code",
   "execution_count": 1,
   "metadata": {},
   "outputs": [
    {
     "data": {
      "text/plain": [
       "'\\ncombine all output files from 13_CFScrossdataset.py that was split up when run to increase comp time\\n\\nShaina Lu\\nZador & Gillis Labs\\nMay 2020\\n'"
      ]
     },
     "execution_count": 1,
     "metadata": {},
     "output_type": "execute_result"
    }
   ],
   "source": [
    "\"\"\"\n",
    "combine all output files from 13_CFScrossdataset.py that was split up when run to increase comp time\n",
    "\n",
    "Shaina Lu\n",
    "Zador & Gillis Labs\n",
    "May 2020\n",
    "\"\"\""
   ]
  },
  {
   "cell_type": "code",
   "execution_count": 2,
   "metadata": {},
   "outputs": [],
   "source": [
    "import pandas as pd\n",
    "import numpy as np"
   ]
  },
  {
   "cell_type": "markdown",
   "metadata": {},
   "source": [
    "# ST to ABA"
   ]
  },
  {
   "cell_type": "code",
   "execution_count": 42,
   "metadata": {},
   "outputs": [],
   "source": [
    "def read4files(file1, file2, file3, file4):\n",
    "    file1 = pd.read_csv(file1, sep=',', index_col=False)\n",
    "    file1.set_index(file1.columns, inplace=True)\n",
    "    \n",
    "    file2 = pd.read_csv(file2, sep=',', index_col=False)\n",
    "    file2.set_index(file2.columns, inplace=True)\n",
    "    \n",
    "    file3 = pd.read_csv(file3, sep=',', index_col=False)\n",
    "    file3.set_index(file3.columns, inplace=True)\n",
    "    \n",
    "    file4 = pd.read_csv(file4, sep=',', index_col=False)\n",
    "    file4.set_index(file4.columns, inplace=True)\n",
    "    \n",
    "    return file1, file2, file3, file4"
   ]
  },
  {
   "cell_type": "code",
   "execution_count": 65,
   "metadata": {},
   "outputs": [],
   "source": [
    "def combine4df(df1, df2, df3, df4):\n",
    "    df1.iloc[101:201,:] = df2.iloc[101:201,:]\n",
    "    df1.iloc[201:301,:] = df3.iloc[201:301,:]\n",
    "    df1.iloc[301:len(list(df1)),:] = df4.iloc[301:len(list(df1)),:]\n",
    "    \n",
    "    return df1"
   ]
  },
  {
   "cell_type": "markdown",
   "metadata": {},
   "source": [
    "ST train"
   ]
  },
  {
   "cell_type": "code",
   "execution_count": 74,
   "metadata": {},
   "outputs": [],
   "source": [
    "file1 = \"/home/slu/spatial/data/cross_CFS/STtoABA_STtrain_f1_CFS_052220.csv\"\n",
    "file2 = \"/home/slu/spatial/data/cross_CFS/STtoABA_STtrain_f1_2_CFS_052420.csv\"\n",
    "file3 = \"/home/slu/spatial/data/cross_CFS/STtoABA_STtrain_f1_3_CFS_052420.csv\"\n",
    "file4 = \"/home/slu/spatial/data/cross_CFS/STtoABA_STtrain_f1_4_CFS_052420.csv\"\n",
    "outfile = \"/home/slu/spatial/data/cross_CFS/STtoABA_STtrain_f1_all_CFS_052920.csv\""
   ]
  },
  {
   "cell_type": "code",
   "execution_count": 75,
   "metadata": {},
   "outputs": [],
   "source": [
    "data1, data2, data3, data4 = read4files(file1, file2, file3, file4)\n",
    "allcombined = combine4df(data1, data2, data3, data4)"
   ]
  },
  {
   "cell_type": "code",
   "execution_count": 76,
   "metadata": {},
   "outputs": [
    {
     "data": {
      "text/plain": [
       "(445, 445)"
      ]
     },
     "execution_count": 76,
     "metadata": {},
     "output_type": "execute_result"
    }
   ],
   "source": [
    "allcombined.shape"
   ]
  },
  {
   "cell_type": "code",
   "execution_count": 71,
   "metadata": {
    "collapsed": true,
    "jupyter": {
     "outputs_hidden": true
    }
   },
   "outputs": [
    {
     "data": {
      "text/html": [
       "<div>\n",
       "<style scoped>\n",
       "    .dataframe tbody tr th:only-of-type {\n",
       "        vertical-align: middle;\n",
       "    }\n",
       "\n",
       "    .dataframe tbody tr th {\n",
       "        vertical-align: top;\n",
       "    }\n",
       "\n",
       "    .dataframe thead th {\n",
       "        text-align: right;\n",
       "    }\n",
       "</style>\n",
       "<table border=\"1\" class=\"dataframe\">\n",
       "  <thead>\n",
       "    <tr style=\"text-align: right;\">\n",
       "      <th></th>\n",
       "      <th>577</th>\n",
       "      <th>657</th>\n",
       "      <th>1114</th>\n",
       "      <th>606</th>\n",
       "      <th>472</th>\n",
       "      <th>632</th>\n",
       "      <th>1072</th>\n",
       "      <th>893</th>\n",
       "      <th>543</th>\n",
       "      <th>1088</th>\n",
       "      <th>...</th>\n",
       "      <th>785</th>\n",
       "      <th>241</th>\n",
       "      <th>1104</th>\n",
       "      <th>702</th>\n",
       "      <th>954</th>\n",
       "      <th>325</th>\n",
       "      <th>87</th>\n",
       "      <th>82</th>\n",
       "      <th>684</th>\n",
       "      <th>234</th>\n",
       "    </tr>\n",
       "  </thead>\n",
       "  <tbody>\n",
       "    <tr>\n",
       "      <th>981</th>\n",
       "      <td>NaN</td>\n",
       "      <td>NaN</td>\n",
       "      <td>NaN</td>\n",
       "      <td>NaN</td>\n",
       "      <td>NaN</td>\n",
       "      <td>NaN</td>\n",
       "      <td>NaN</td>\n",
       "      <td>NaN</td>\n",
       "      <td>NaN</td>\n",
       "      <td>NaN</td>\n",
       "      <td>...</td>\n",
       "      <td>[0.99480519 1.         0.99090909 0.9974026  1...</td>\n",
       "      <td>[1.         0.9952381  0.99194139 0.9970696  0...</td>\n",
       "      <td>[1.        0.9952381 1.        1.        0.995...</td>\n",
       "      <td>[0.99621212 1.         1.         0.99873737 1...</td>\n",
       "      <td>[0.9989011  1.         0.9989011  0.9989011  0...</td>\n",
       "      <td>[1.         1.         1.         1.         1...</td>\n",
       "      <td>[0.98571429 1.         1.         0.98857143 1...</td>\n",
       "      <td>[1.         0.99732143 1.         1.         0...</td>\n",
       "      <td>[1.         1.         1.         1.         1...</td>\n",
       "      <td>[0.97857143 1.         1.         1.         0...</td>\n",
       "    </tr>\n",
       "    <tr>\n",
       "      <th>427</th>\n",
       "      <td>NaN</td>\n",
       "      <td>NaN</td>\n",
       "      <td>NaN</td>\n",
       "      <td>NaN</td>\n",
       "      <td>NaN</td>\n",
       "      <td>NaN</td>\n",
       "      <td>NaN</td>\n",
       "      <td>NaN</td>\n",
       "      <td>NaN</td>\n",
       "      <td>NaN</td>\n",
       "      <td>...</td>\n",
       "      <td>[1.         1.         0.99504132 1.         1...</td>\n",
       "      <td>[0.9967366  0.9997669  0.98997669 0.97808858 0...</td>\n",
       "      <td>[1.         1.         1.         1.         1...</td>\n",
       "      <td>[0.88595041 0.99049587 0.98966942 0.98140496 0...</td>\n",
       "      <td>[0.99020979 0.94825175 0.98706294 0.96853147 0...</td>\n",
       "      <td>[1.         1.         1.         0.99772727 0...</td>\n",
       "      <td>[1.         1.         1.         0.99636364 1...</td>\n",
       "      <td>[1.         1.         1.         0.9875     1...</td>\n",
       "      <td>[1.         1.         1.         0.9969697  1...</td>\n",
       "      <td>[1.         0.99220779 0.96948052 0.92662338 0...</td>\n",
       "    </tr>\n",
       "    <tr>\n",
       "      <th>1029</th>\n",
       "      <td>NaN</td>\n",
       "      <td>NaN</td>\n",
       "      <td>NaN</td>\n",
       "      <td>NaN</td>\n",
       "      <td>NaN</td>\n",
       "      <td>NaN</td>\n",
       "      <td>NaN</td>\n",
       "      <td>NaN</td>\n",
       "      <td>NaN</td>\n",
       "      <td>NaN</td>\n",
       "      <td>...</td>\n",
       "      <td>[1. 1. 1. 1. 1. 1. 1. 1. 1. 1. 1. 1. 1. 1. 1. ...</td>\n",
       "      <td>[1.         1.         0.97435897 1.         1...</td>\n",
       "      <td>[1. 1. 1. 1. 1. 1. 1. 1. 1. 1. 1. 1. 1. 1. 1. ...</td>\n",
       "      <td>[1.         1.         1.         1.         1...</td>\n",
       "      <td>[1.         1.         1.         1.         1...</td>\n",
       "      <td>[1. 1. 1. 1. 1. 1. 1. 1. 1. 1. 1. 1. 1. 1. 1. ...</td>\n",
       "      <td>[1. 1. 1. 1. 1. 1. 1. 1. 1. 1. 1. 1. 1. 1. 1. ...</td>\n",
       "      <td>[1. 1. 1. 1. 1. 1. 1. 1. 1. 1. 1. 1. 1. 1. 1. ...</td>\n",
       "      <td>[1. 1. 1. 1. 1. 1. 1. 1. 1. 1. 1. 1. 1. 1. 1. ...</td>\n",
       "      <td>[1. 1. 1. 1. 1. 1. 1. 1. 1. 1. 1. 1. 1. 1. 1. ...</td>\n",
       "    </tr>\n",
       "    <tr>\n",
       "      <th>266</th>\n",
       "      <td>NaN</td>\n",
       "      <td>NaN</td>\n",
       "      <td>NaN</td>\n",
       "      <td>NaN</td>\n",
       "      <td>NaN</td>\n",
       "      <td>NaN</td>\n",
       "      <td>NaN</td>\n",
       "      <td>NaN</td>\n",
       "      <td>NaN</td>\n",
       "      <td>NaN</td>\n",
       "      <td>...</td>\n",
       "      <td>[1.         1.         1.         1.         1...</td>\n",
       "      <td>[1.         1.         1.         1.         1...</td>\n",
       "      <td>[1. 1. 1. 1. 1. 1. 1. 1. 1. 1. 1. 1. 1. 1. 1. ...</td>\n",
       "      <td>[1.         1.         1.         1.         1...</td>\n",
       "      <td>[1.         1.         1.         1.         1...</td>\n",
       "      <td>[1. 1. 1. 1. 1. 1. 1. 1. 1. 1. 1. 1. 1. 1. 1. ...</td>\n",
       "      <td>[1. 1. 1. 1. 1. 1. 1. 1. 1. 1. 1. 1. 1. 1. 1. ...</td>\n",
       "      <td>[1. 1. 1. 1. 1. 1. 1. 1. 1. 1. 1. 1. 1. 1. 1. ...</td>\n",
       "      <td>[1. 1. 1. 1. 1. 1. 1. 1. 1. 1. 1. 1. 1. 1. 1. ...</td>\n",
       "      <td>[1. 1. 1. 1. 1. 1. 1. 1. 1. 1. 1. 1. 1. 1. 1. ...</td>\n",
       "    </tr>\n",
       "    <tr>\n",
       "      <th>996</th>\n",
       "      <td>NaN</td>\n",
       "      <td>NaN</td>\n",
       "      <td>NaN</td>\n",
       "      <td>NaN</td>\n",
       "      <td>NaN</td>\n",
       "      <td>NaN</td>\n",
       "      <td>NaN</td>\n",
       "      <td>NaN</td>\n",
       "      <td>NaN</td>\n",
       "      <td>NaN</td>\n",
       "      <td>...</td>\n",
       "      <td>[1.         1.         1.         1.         1...</td>\n",
       "      <td>[1.         0.99450549 1.         1.         1...</td>\n",
       "      <td>[1. 1. 1. 1. 1. 1. 1. 1. 1. 1. 1. 1. 1. 1. 1. ...</td>\n",
       "      <td>[1.         1.         1.         1.         1...</td>\n",
       "      <td>[0.98351648 1.         0.98214286 1.         1...</td>\n",
       "      <td>[1. 1. 1. 1. 1. 1. 1. 1. 1. 1. 1. 1. 1. 1. 1. ...</td>\n",
       "      <td>[1.         1.         1.         1.         1...</td>\n",
       "      <td>[1.         1.         0.984375   1.         1...</td>\n",
       "      <td>[1. 1. 1. 1. 1. 1. 1. 1. 1. 1. 1. 1. 1. 1. 1. ...</td>\n",
       "      <td>[1.         1.         1.         1.         1...</td>\n",
       "    </tr>\n",
       "    <tr>\n",
       "      <th>527</th>\n",
       "      <td>NaN</td>\n",
       "      <td>NaN</td>\n",
       "      <td>NaN</td>\n",
       "      <td>NaN</td>\n",
       "      <td>NaN</td>\n",
       "      <td>NaN</td>\n",
       "      <td>NaN</td>\n",
       "      <td>NaN</td>\n",
       "      <td>NaN</td>\n",
       "      <td>NaN</td>\n",
       "      <td>...</td>\n",
       "      <td>[1.         1.         1.         1.         1...</td>\n",
       "      <td>[1.         1.         1.         1.         1...</td>\n",
       "      <td>[1. 1. 1. 1. 1. 1. 1. 1. 1. 1. 1. 1. 1. 1. 1. ...</td>\n",
       "      <td>[0.9965035  1.         1.         1.         0...</td>\n",
       "      <td>[1.         0.99704142 1.         1.         0...</td>\n",
       "      <td>[1. 1. 1. 1. 1. 1. 1. 1. 1. 1. 1. 1. 1. 1. 1. ...</td>\n",
       "      <td>[1.         1.         1.         1.         1...</td>\n",
       "      <td>[1.         1.         0.99759615 1.         1...</td>\n",
       "      <td>[1.         1.         1.         1.         1...</td>\n",
       "      <td>[1.         0.99725275 1.         1.         1...</td>\n",
       "    </tr>\n",
       "  </tbody>\n",
       "</table>\n",
       "<p>6 rows × 445 columns</p>\n",
       "</div>"
      ],
      "text/plain": [
       "      577  657 1114  606  472  632 1072  893  543 1088  ...  \\\n",
       "981   NaN  NaN  NaN  NaN  NaN  NaN  NaN  NaN  NaN  NaN  ...   \n",
       "427   NaN  NaN  NaN  NaN  NaN  NaN  NaN  NaN  NaN  NaN  ...   \n",
       "1029  NaN  NaN  NaN  NaN  NaN  NaN  NaN  NaN  NaN  NaN  ...   \n",
       "266   NaN  NaN  NaN  NaN  NaN  NaN  NaN  NaN  NaN  NaN  ...   \n",
       "996   NaN  NaN  NaN  NaN  NaN  NaN  NaN  NaN  NaN  NaN  ...   \n",
       "527   NaN  NaN  NaN  NaN  NaN  NaN  NaN  NaN  NaN  NaN  ...   \n",
       "\n",
       "                                                    785  \\\n",
       "981   [0.99480519 1.         0.99090909 0.9974026  1...   \n",
       "427   [1.         1.         0.99504132 1.         1...   \n",
       "1029  [1. 1. 1. 1. 1. 1. 1. 1. 1. 1. 1. 1. 1. 1. 1. ...   \n",
       "266   [1.         1.         1.         1.         1...   \n",
       "996   [1.         1.         1.         1.         1...   \n",
       "527   [1.         1.         1.         1.         1...   \n",
       "\n",
       "                                                    241  \\\n",
       "981   [1.         0.9952381  0.99194139 0.9970696  0...   \n",
       "427   [0.9967366  0.9997669  0.98997669 0.97808858 0...   \n",
       "1029  [1.         1.         0.97435897 1.         1...   \n",
       "266   [1.         1.         1.         1.         1...   \n",
       "996   [1.         0.99450549 1.         1.         1...   \n",
       "527   [1.         1.         1.         1.         1...   \n",
       "\n",
       "                                                   1104  \\\n",
       "981   [1.        0.9952381 1.        1.        0.995...   \n",
       "427   [1.         1.         1.         1.         1...   \n",
       "1029  [1. 1. 1. 1. 1. 1. 1. 1. 1. 1. 1. 1. 1. 1. 1. ...   \n",
       "266   [1. 1. 1. 1. 1. 1. 1. 1. 1. 1. 1. 1. 1. 1. 1. ...   \n",
       "996   [1. 1. 1. 1. 1. 1. 1. 1. 1. 1. 1. 1. 1. 1. 1. ...   \n",
       "527   [1. 1. 1. 1. 1. 1. 1. 1. 1. 1. 1. 1. 1. 1. 1. ...   \n",
       "\n",
       "                                                    702  \\\n",
       "981   [0.99621212 1.         1.         0.99873737 1...   \n",
       "427   [0.88595041 0.99049587 0.98966942 0.98140496 0...   \n",
       "1029  [1.         1.         1.         1.         1...   \n",
       "266   [1.         1.         1.         1.         1...   \n",
       "996   [1.         1.         1.         1.         1...   \n",
       "527   [0.9965035  1.         1.         1.         0...   \n",
       "\n",
       "                                                    954  \\\n",
       "981   [0.9989011  1.         0.9989011  0.9989011  0...   \n",
       "427   [0.99020979 0.94825175 0.98706294 0.96853147 0...   \n",
       "1029  [1.         1.         1.         1.         1...   \n",
       "266   [1.         1.         1.         1.         1...   \n",
       "996   [0.98351648 1.         0.98214286 1.         1...   \n",
       "527   [1.         0.99704142 1.         1.         0...   \n",
       "\n",
       "                                                    325  \\\n",
       "981   [1.         1.         1.         1.         1...   \n",
       "427   [1.         1.         1.         0.99772727 0...   \n",
       "1029  [1. 1. 1. 1. 1. 1. 1. 1. 1. 1. 1. 1. 1. 1. 1. ...   \n",
       "266   [1. 1. 1. 1. 1. 1. 1. 1. 1. 1. 1. 1. 1. 1. 1. ...   \n",
       "996   [1. 1. 1. 1. 1. 1. 1. 1. 1. 1. 1. 1. 1. 1. 1. ...   \n",
       "527   [1. 1. 1. 1. 1. 1. 1. 1. 1. 1. 1. 1. 1. 1. 1. ...   \n",
       "\n",
       "                                                     87  \\\n",
       "981   [0.98571429 1.         1.         0.98857143 1...   \n",
       "427   [1.         1.         1.         0.99636364 1...   \n",
       "1029  [1. 1. 1. 1. 1. 1. 1. 1. 1. 1. 1. 1. 1. 1. 1. ...   \n",
       "266   [1. 1. 1. 1. 1. 1. 1. 1. 1. 1. 1. 1. 1. 1. 1. ...   \n",
       "996   [1.         1.         1.         1.         1...   \n",
       "527   [1.         1.         1.         1.         1...   \n",
       "\n",
       "                                                     82  \\\n",
       "981   [1.         0.99732143 1.         1.         0...   \n",
       "427   [1.         1.         1.         0.9875     1...   \n",
       "1029  [1. 1. 1. 1. 1. 1. 1. 1. 1. 1. 1. 1. 1. 1. 1. ...   \n",
       "266   [1. 1. 1. 1. 1. 1. 1. 1. 1. 1. 1. 1. 1. 1. 1. ...   \n",
       "996   [1.         1.         0.984375   1.         1...   \n",
       "527   [1.         1.         0.99759615 1.         1...   \n",
       "\n",
       "                                                    684  \\\n",
       "981   [1.         1.         1.         1.         1...   \n",
       "427   [1.         1.         1.         0.9969697  1...   \n",
       "1029  [1. 1. 1. 1. 1. 1. 1. 1. 1. 1. 1. 1. 1. 1. 1. ...   \n",
       "266   [1. 1. 1. 1. 1. 1. 1. 1. 1. 1. 1. 1. 1. 1. 1. ...   \n",
       "996   [1. 1. 1. 1. 1. 1. 1. 1. 1. 1. 1. 1. 1. 1. 1. ...   \n",
       "527   [1.         1.         1.         1.         1...   \n",
       "\n",
       "                                                    234  \n",
       "981   [0.97857143 1.         1.         1.         0...  \n",
       "427   [1.         0.99220779 0.96948052 0.92662338 0...  \n",
       "1029  [1. 1. 1. 1. 1. 1. 1. 1. 1. 1. 1. 1. 1. 1. 1. ...  \n",
       "266   [1. 1. 1. 1. 1. 1. 1. 1. 1. 1. 1. 1. 1. 1. 1. ...  \n",
       "996   [1.         1.         1.         1.         1...  \n",
       "527   [1.         0.99725275 1.         1.         1...  \n",
       "\n",
       "[6 rows x 445 columns]"
      ]
     },
     "execution_count": 71,
     "metadata": {},
     "output_type": "execute_result"
    }
   ],
   "source": [
    "allcombined.iloc[99:105]"
   ]
  },
  {
   "cell_type": "code",
   "execution_count": 78,
   "metadata": {},
   "outputs": [],
   "source": [
    "allcombined.to_csv(outfile, header=True, index=False)"
   ]
  },
  {
   "cell_type": "markdown",
   "metadata": {},
   "source": [
    "ST test"
   ]
  },
  {
   "cell_type": "code",
   "execution_count": 79,
   "metadata": {},
   "outputs": [],
   "source": [
    "file1 = \"/home/slu/spatial/data/cross_CFS/STtoABA_STtest_f1_CFS_052220.csv\"\n",
    "file2 = \"/home/slu/spatial/data/cross_CFS/STtoABA_STtest_f1_2_CFS_052420.csv\"\n",
    "file3 = \"/home/slu/spatial/data/cross_CFS/STtoABA_STtest_f1_3_CFS_052420.csv\"\n",
    "file4 = \"/home/slu/spatial/data/cross_CFS/STtoABA_STtest_f1_4_CFS_052420.csv\"\n",
    "outfile = \"/home/slu/spatial/data/cross_CFS/STtoABA_STtest_f1_all_CFS_052920.csv\""
   ]
  },
  {
   "cell_type": "code",
   "execution_count": 80,
   "metadata": {},
   "outputs": [],
   "source": [
    "data1, data2, data3, data4 = read4files(file1, file2, file3, file4)\n",
    "allcombined = combine4df(data1, data2, data3, data4)"
   ]
  },
  {
   "cell_type": "code",
   "execution_count": 81,
   "metadata": {},
   "outputs": [
    {
     "data": {
      "text/plain": [
       "(445, 445)"
      ]
     },
     "execution_count": 81,
     "metadata": {},
     "output_type": "execute_result"
    }
   ],
   "source": [
    "allcombined.shape"
   ]
  },
  {
   "cell_type": "code",
   "execution_count": 82,
   "metadata": {},
   "outputs": [],
   "source": [
    "allcombined.to_csv(outfile, header=True, index=False)"
   ]
  },
  {
   "cell_type": "markdown",
   "metadata": {},
   "source": [
    "featsets ST train"
   ]
  },
  {
   "cell_type": "code",
   "execution_count": 83,
   "metadata": {},
   "outputs": [],
   "source": [
    "file1 = \"/home/slu/spatial/data/cross_CFS/STtoABA_featsetsSTtrain_f1_CFS_052220.csv\"\n",
    "file2 = \"/home/slu/spatial/data/cross_CFS/STtoABA_featsetsSTtrain_f1_2_CFS_052420.csv\"\n",
    "file3 = \"/home/slu/spatial/data/cross_CFS/STtoABA_featsetsSTtrain_f1_3_CFS_052420.csv\"\n",
    "file4 = \"/home/slu/spatial/data/cross_CFS/STtoABA_featsetsSTtrain_f1_4_CFS_052420.csv\"\n",
    "outfile = \"/home/slu/spatial/data/cross_CFS/STtoABA_featsetsSTtrain_f1_all_CFS_052920.csv\""
   ]
  },
  {
   "cell_type": "code",
   "execution_count": 84,
   "metadata": {},
   "outputs": [],
   "source": [
    "data1, data2, data3, data4 = read4files(file1, file2, file3, file4)\n",
    "allcombined = combine4df(data1, data2, data3, data4)"
   ]
  },
  {
   "cell_type": "code",
   "execution_count": 85,
   "metadata": {},
   "outputs": [
    {
     "data": {
      "text/plain": [
       "(445, 445)"
      ]
     },
     "execution_count": 85,
     "metadata": {},
     "output_type": "execute_result"
    }
   ],
   "source": [
    "allcombined.shape"
   ]
  },
  {
   "cell_type": "code",
   "execution_count": 86,
   "metadata": {},
   "outputs": [],
   "source": [
    "allcombined.to_csv(outfile, header=True, index=False)"
   ]
  },
  {
   "cell_type": "markdown",
   "metadata": {},
   "source": [
    "ABA all"
   ]
  },
  {
   "cell_type": "code",
   "execution_count": 87,
   "metadata": {},
   "outputs": [],
   "source": [
    "file1 = \"/home/slu/spatial/data/cross_CFS/STtoABA_ABAall_f1_CFS_052220.csv\"\n",
    "file2 = \"/home/slu/spatial/data/cross_CFS/STtoABA_ABAall_f1_2_CFS_052420.csv\"\n",
    "file3 = \"/home/slu/spatial/data/cross_CFS/STtoABA_ABAall_f1_3_CFS_052420.csv\"\n",
    "file4 = \"/home/slu/spatial/data/cross_CFS/STtoABA_ABAall_f1_4_CFS_052420.csv\"\n",
    "outfile = \"/home/slu/spatial/data/cross_CFS/STtoABA_ABAall_f1_all_CFS_052920.csv\""
   ]
  },
  {
   "cell_type": "code",
   "execution_count": 88,
   "metadata": {},
   "outputs": [],
   "source": [
    "data1, data2, data3, data4 = read4files(file1, file2, file3, file4)\n",
    "allcombined = combine4df(data1, data2, data3, data4)"
   ]
  },
  {
   "cell_type": "code",
   "execution_count": 89,
   "metadata": {},
   "outputs": [
    {
     "data": {
      "text/plain": [
       "(445, 445)"
      ]
     },
     "execution_count": 89,
     "metadata": {},
     "output_type": "execute_result"
    }
   ],
   "source": [
    "allcombined.shape"
   ]
  },
  {
   "cell_type": "code",
   "execution_count": 90,
   "metadata": {},
   "outputs": [],
   "source": [
    "allcombined.to_csv(outfile, header=True, index=False)"
   ]
  },
  {
   "cell_type": "markdown",
   "metadata": {},
   "source": [
    "# ABA to ST"
   ]
  },
  {
   "cell_type": "code",
   "execution_count": 100,
   "metadata": {},
   "outputs": [],
   "source": [
    "def read5files(file1, file2, file3, file4, file5):\n",
    "    file1 = pd.read_csv(file1, sep=',', index_col=False)\n",
    "    file1.set_index(file1.columns, inplace=True)\n",
    "    \n",
    "    file2 = pd.read_csv(file2, sep=',', index_col=False)\n",
    "    file2.set_index(file2.columns, inplace=True)\n",
    "    \n",
    "    file3 = pd.read_csv(file3, sep=',', index_col=False)\n",
    "    file3.set_index(file3.columns, inplace=True)\n",
    "    \n",
    "    file4 = pd.read_csv(file4, sep=',', index_col=False)\n",
    "    file4.set_index(file4.columns, inplace=True)\n",
    "    \n",
    "    file5 = pd.read_csv(file5, sep=',', index_col=False)\n",
    "    file5.set_index(file5.columns, inplace=True)\n",
    "    \n",
    "    return file1, file2, file3, file4, file5"
   ]
  },
  {
   "cell_type": "code",
   "execution_count": 97,
   "metadata": {},
   "outputs": [],
   "source": [
    "def combine5df(df1, df2, df3, df4, df5):\n",
    "    df1.iloc[91:181,:] = df2.iloc[91:181,:]\n",
    "    df1.iloc[181:271,:] = df3.iloc[181:271,:]\n",
    "    df1.iloc[271:361,:] = df4.iloc[271:361,:]\n",
    "    df1.iloc[361:len(list(df1)),:] = df5.iloc[361:len(list(df1)),:]\n",
    "    \n",
    "    return df1"
   ]
  },
  {
   "cell_type": "markdown",
   "metadata": {},
   "source": [
    "ABA train"
   ]
  },
  {
   "cell_type": "code",
   "execution_count": 98,
   "metadata": {},
   "outputs": [],
   "source": [
    "file1 = \"/home/slu/spatial/data/cross_CFS/ABAtoST_ABAtrain_f1_1_CFS_052420.csv\"\n",
    "file2 = \"/home/slu/spatial/data/cross_CFS/ABAtoST_ABAtrain_f1_2_CFS_052420.csv\"\n",
    "file3 = \"/home/slu/spatial/data/cross_CFS/ABAtoST_ABAtrain_f1_3_CFS_052420.csv\"\n",
    "file4 = \"/home/slu/spatial/data/cross_CFS/ABAtoST_ABAtrain_f1_4_CFS_052420.csv\"\n",
    "file5 = \"/home/slu/spatial/data/cross_CFS/ABAtoST_ABAtrain_f1_5_CFS_052420.csv\"\n",
    "outfile = \"/home/slu/spatial/data/cross_CFS/ABAtoST_ABAtrain_f1_all_CFS_052920.csv\""
   ]
  },
  {
   "cell_type": "code",
   "execution_count": 101,
   "metadata": {},
   "outputs": [],
   "source": [
    "data1, data2, data3, data4, data5 = read5files(file1, file2, file3, file4, file5)\n",
    "allcombined = combine5df(data1, data2, data3, data4, data5)"
   ]
  },
  {
   "cell_type": "code",
   "execution_count": 102,
   "metadata": {},
   "outputs": [],
   "source": [
    "allcombined.to_csv(outfile, header=True, index=False)"
   ]
  },
  {
   "cell_type": "markdown",
   "metadata": {},
   "source": [
    "ABA test"
   ]
  },
  {
   "cell_type": "code",
   "execution_count": 103,
   "metadata": {},
   "outputs": [],
   "source": [
    "file1 = \"/home/slu/spatial/data/cross_CFS/ABAtoST_ABAtest_f1_1_CFS_052420.csv\"\n",
    "file2 = \"/home/slu/spatial/data/cross_CFS/ABAtoST_ABAtest_f1_2_CFS_052420.csv\"\n",
    "file3 = \"/home/slu/spatial/data/cross_CFS/ABAtoST_ABAtest_f1_3_CFS_052420.csv\"\n",
    "file4 = \"/home/slu/spatial/data/cross_CFS/ABAtoST_ABAtest_f1_4_CFS_052420.csv\"\n",
    "file5 = \"/home/slu/spatial/data/cross_CFS/ABAtoST_ABAtest_f1_5_CFS_052420.csv\"\n",
    "outfile = \"/home/slu/spatial/data/cross_CFS/ABAtoST_ABAtest_f1_all_CFS_052920.csv\""
   ]
  },
  {
   "cell_type": "code",
   "execution_count": 104,
   "metadata": {},
   "outputs": [],
   "source": [
    "data1, data2, data3, data4, data5 = read5files(file1, file2, file3, file4, file5)\n",
    "allcombined = combine5df(data1, data2, data3, data4, data5)"
   ]
  },
  {
   "cell_type": "code",
   "execution_count": 105,
   "metadata": {},
   "outputs": [],
   "source": [
    "allcombined.to_csv(outfile, header=True, index=False)"
   ]
  },
  {
   "cell_type": "markdown",
   "metadata": {},
   "source": [
    "featsets ABA train"
   ]
  },
  {
   "cell_type": "code",
   "execution_count": 106,
   "metadata": {},
   "outputs": [],
   "source": [
    "file1 = \"/home/slu/spatial/data/cross_CFS/ABAtoST_featsetsABAtrain_f1_1_CFS_052420.csv\"\n",
    "file2 = \"/home/slu/spatial/data/cross_CFS/ABAtoST_featsetsABAtrain_f1_2_CFS_052420.csv\"\n",
    "file3 = \"/home/slu/spatial/data/cross_CFS/ABAtoST_featsetsABAtrain_f1_3_CFS_052420.csv\"\n",
    "file4 = \"/home/slu/spatial/data/cross_CFS/ABAtoST_featsetsABAtrain_f1_4_CFS_052420.csv\"\n",
    "file5 = \"/home/slu/spatial/data/cross_CFS/ABAtoST_featsetsABAtrain_f1_5_CFS_052420.csv\"\n",
    "outfile = \"/home/slu/spatial/data/cross_CFS/ABAtoST_featstsABAtrain_f1_all_CFS_052920.csv\""
   ]
  },
  {
   "cell_type": "code",
   "execution_count": 107,
   "metadata": {},
   "outputs": [],
   "source": [
    "data1, data2, data3, data4, data5 = read5files(file1, file2, file3, file4, file5)\n",
    "allcombined = combine5df(data1, data2, data3, data4, data5)"
   ]
  },
  {
   "cell_type": "code",
   "execution_count": 108,
   "metadata": {},
   "outputs": [],
   "source": [
    "allcombined.to_csv(outfile, header=True, index=False)"
   ]
  },
  {
   "cell_type": "markdown",
   "metadata": {},
   "source": [
    "ST all"
   ]
  },
  {
   "cell_type": "code",
   "execution_count": 109,
   "metadata": {},
   "outputs": [],
   "source": [
    "file1 = \"/home/slu/spatial/data/cross_CFS/ABAtoST_STall_f1_1_CFS_052420.csv\"\n",
    "file2 = \"/home/slu/spatial/data/cross_CFS/ABAtoST_STall_f1_2_CFS_052420.csv\"\n",
    "file3 = \"/home/slu/spatial/data/cross_CFS/ABAtoST_STall_f1_3_CFS_052420.csv\"\n",
    "file4 = \"/home/slu/spatial/data/cross_CFS/ABAtoST_STall_f1_4_CFS_052420.csv\"\n",
    "file5 = \"/home/slu/spatial/data/cross_CFS/ABAtoST_STall_f1_5_CFS_052420.csv\"\n",
    "outfile = \"/home/slu/spatial/data/cross_CFS/ABAtoST_STall_f1_all_CFS_052920.csv\""
   ]
  },
  {
   "cell_type": "code",
   "execution_count": 110,
   "metadata": {},
   "outputs": [],
   "source": [
    "data1, data2, data3, data4, data5 = read5files(file1, file2, file3, file4, file5)\n",
    "allcombined = combine5df(data1, data2, data3, data4, data5)"
   ]
  },
  {
   "cell_type": "code",
   "execution_count": 111,
   "metadata": {},
   "outputs": [],
   "source": [
    "allcombined.to_csv(outfile, header=True, index=False)"
   ]
  },
  {
   "cell_type": "code",
   "execution_count": null,
   "metadata": {},
   "outputs": [],
   "source": []
  }
 ],
 "metadata": {
  "kernelspec": {
   "display_name": "Python 3",
   "language": "python",
   "name": "python3"
  },
  "language_info": {
   "codemirror_mode": {
    "name": "ipython",
    "version": 3
   },
   "file_extension": ".py",
   "mimetype": "text/x-python",
   "name": "python",
   "nbconvert_exporter": "python",
   "pygments_lexer": "ipython3",
   "version": "3.7.3"
  }
 },
 "nbformat": 4,
 "nbformat_minor": 4
}
