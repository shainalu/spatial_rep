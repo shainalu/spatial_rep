{
 "cells": [
  {
   "cell_type": "code",
   "execution_count": 1,
   "metadata": {},
   "outputs": [
    {
     "data": {
      "text/plain": [
       "'\\nintroduce a validation fold for hyperparameter selection\\n\\nShaina Lu\\nZador & Gillis Labs\\nMarch 2021\\n'"
      ]
     },
     "execution_count": 1,
     "metadata": {},
     "output_type": "execute_result"
    }
   ],
   "source": [
    "\"\"\"\n",
    "introduce a validation fold for hyperparameter selection\n",
    "\n",
    "Shaina Lu\n",
    "Zador & Gillis Labs\n",
    "March 2021\n",
    "\"\"\""
   ]
  },
  {
   "cell_type": "code",
   "execution_count": 96,
   "metadata": {},
   "outputs": [],
   "source": [
    "from __future__ import division\n",
    "import matplotlib.pyplot as plt\n",
    "import seaborn as sns\n",
    "import pandas as pd\n",
    "import numpy as np\n",
    "import scipy as sp\n",
    "from scipy import stats\n",
    "from sklearn import metrics\n",
    "from sklearn.linear_model import Lasso\n",
    "from sklearn.linear_model import LinearRegression\n",
    "from sklearn.preprocessing import StandardScaler\n",
    "from sklearn.model_selection import train_test_split, StratifiedShuffleSplit, GridSearchCV #stratify train/test split\n",
    "from sklearn.metrics import make_scorer, roc_auc_score\n",
    "import random"
   ]
  },
  {
   "cell_type": "code",
   "execution_count": 17,
   "metadata": {},
   "outputs": [],
   "source": [
    "def set_style():\n",
    "    #function for matplotlib formatting\n",
    "    plt.style.use(['seaborn-white','seaborn-notebook'])\n",
    "    plt.rcParams['figure.figsize'] = [6,4]\n",
    "    plt.rcParams['axes.spines.top'] = False       #remove top line\n",
    "    plt.rcParams['axes.spines.right'] = False     #remove right line\n",
    "    plt.rcParams['axes.linewidth'] = 2.0          #set weight of axes\n",
    "    plt.rcParams['axes.titlesize'] = 20           #set font size of title\n",
    "    plt.rcParams['axes.labelsize'] = 18           #set font size of x,y labels\n",
    "    plt.rcParams['axes.labelpad'] = 14            #space between labels and axes\n",
    "    plt.rcParams['xtick.labelsize'] = 14          #set x label size\n",
    "    plt.rcParams['ytick.labelsize'] = 14          #set y label size\n",
    "    plt.rcParams['legend.fontsize'] = 16          #set legend font size\n",
    "    \n",
    "set_style()"
   ]
  },
  {
   "cell_type": "markdown",
   "metadata": {},
   "source": [
    "# ST"
   ]
  },
  {
   "cell_type": "markdown",
   "metadata": {},
   "source": [
    "### Read in Data and pre-processing"
   ]
  },
  {
   "cell_type": "code",
   "execution_count": 4,
   "metadata": {},
   "outputs": [],
   "source": [
    "#infiles\n",
    "ST_CANTIN_FILT_PATH = \"/home/slu/spatial/data/cantin_ST_filt_v1.h5\"\n",
    "ONTOLOGY_PATH = \"/data/slu/allen_adult_mouse_ISH/ontologyABA.csv\""
   ]
  },
  {
   "cell_type": "code",
   "execution_count": 5,
   "metadata": {},
   "outputs": [],
   "source": [
    "def read_data():\n",
    "    \"\"\"read in all datasets needed using pandas\"\"\"\n",
    "    STspotsmeta = pd.read_hdf(ST_CANTIN_FILT_PATH, key='STspotsmeta', mode='r')\n",
    "    STspots = pd.read_hdf(ST_CANTIN_FILT_PATH, key='STspots', mode='r')\n",
    "    STpropont = pd.read_hdf(ST_CANTIN_FILT_PATH, key='STpropont', mode='r')\n",
    "\n",
    "    ontology = pd.read_csv(ONTOLOGY_PATH)\n",
    "    ontology = ontology.drop([ontology.columns[5], ontology.columns[6]], axis=1)\n",
    "    ontology = ontology.fillna(-1)  #make root's parent -1\n",
    "\n",
    "    return STspotsmeta, STspots, STpropont, ontology"
   ]
  },
  {
   "cell_type": "markdown",
   "metadata": {},
   "source": [
    "__copied and pasted pre-processing functions__"
   ]
  },
  {
   "cell_type": "code",
   "execution_count": 6,
   "metadata": {},
   "outputs": [],
   "source": [
    "def zscore(voxbrain):\n",
    "    \"\"\"zscore voxbrain or subsets of voxbrain (rows: voxels, cols: genes)\"\"\"\n",
    "    #z-score \n",
    "    scaler = StandardScaler(copy=True, with_mean=True, with_std=True)\n",
    "    scaler.fit(voxbrain)\n",
    "    z_voxbrain = scaler.transform(voxbrain, copy=True)\n",
    "    \n",
    "    #store z-scored voxbrain as pandas dataframe\n",
    "    z_voxbrain = pd.DataFrame(z_voxbrain)\n",
    "    z_voxbrain.columns = voxbrain.columns\n",
    "    z_voxbrain.index = voxbrain.index\n",
    "    \n",
    "    return z_voxbrain\n",
    "\n",
    "\n",
    "def filterproponto(sampleonto):\n",
    "    \"\"\"pre-processing for propogated ontology for ST data\"\"\"\n",
    "    #remove brain areas that don't have any samples\n",
    "    sampleonto_sums = sampleonto.apply(lambda col: col.sum(), axis=0)\n",
    "    sampleonto = sampleonto.loc[:,sampleonto_sums > 5] #greater than 5 becuase less is not enough for train/test split to have non-zero areas\n",
    "    \n",
    "    return sampleonto\n",
    "\n",
    "def getleaves(propontvox, ontology):\n",
    "    #leaves are brain areas in the ontology that never show up in the parent column\n",
    "    allareas = list(propontvox)\n",
    "    parents = list(ontology.parent)\n",
    "    for i in range(len(parents)): #convert parents from float to int, ids are ints\n",
    "        parents[i] = int(parents[i])\n",
    "    \n",
    "    #remove parents from all areas\n",
    "    leaves = []\n",
    "    for area in allareas:\n",
    "        if int(area) not in parents:\n",
    "            leaves.append(area)\n",
    "    \n",
    "    return leaves\n",
    "\n",
    "def analytical_auroc(featurevector, binarylabels):\n",
    "    \"\"\"analytical calculation of auroc\n",
    "       inputs: feature (mean rank of expression level), binary label\n",
    "       returns: auroc\n",
    "    \"\"\"\n",
    "    #sort ctxnotctx binary labels by mean rank, aescending\n",
    "    s = sorted(zip(featurevector, binarylabels))\n",
    "    feature_sort, binarylabels_sort = map(list, zip(*s))\n",
    "    #print feature_sort\n",
    "    #print binarylabels_sort\n",
    "\n",
    "    #get the sum of the ranks in feature vector corresponding to 1's in binary vector\n",
    "    sumranks = 0\n",
    "    for i in range(len(binarylabels_sort)):\n",
    "        if binarylabels_sort[i] == 1:\n",
    "            sumranks = sumranks + feature_sort[i]\n",
    "    \n",
    "    poslabels = binarylabels.sum()\n",
    "    neglabels = (len(binarylabels) - poslabels) #- (len(binarylabels) - binarylabels.count())  #trying to subtract out \n",
    "    \n",
    "    auroc = ((sumranks/(neglabels*poslabels)) - ((poslabels+1)/(2*neglabels)))\n",
    "    \n",
    "    return auroc"
   ]
  },
  {
   "cell_type": "markdown",
   "metadata": {},
   "source": [
    "# LASSO functions"
   ]
  },
  {
   "cell_type": "code",
   "execution_count": 7,
   "metadata": {},
   "outputs": [],
   "source": [
    "def applyLASSO(Xtrain, Xtest, ytrain, ytest, alphaval):\n",
    "    \"\"\"apply LASSO regression\"\"\"\n",
    "    lasso_reg = Lasso(alpha=alphaval, max_iter=10000)\n",
    "    #lasso_reg = LinearRegression()\n",
    "    lasso_reg.fit(Xtrain, ytrain)\n",
    "    \n",
    "    #train\n",
    "    predictions_train = lasso_reg.predict(Xtrain)\n",
    "    auroc_train = analytical_auroc(sp.stats.mstats.rankdata(predictions_train), ytrain)\n",
    "    #test\n",
    "    predictions_test = lasso_reg.predict(Xtest)\n",
    "    auroc_test = analytical_auroc(sp.stats.mstats.rankdata(predictions_test), ytest)\n",
    "    \n",
    "    return auroc_train, auroc_test"
   ]
  },
  {
   "cell_type": "code",
   "execution_count": 8,
   "metadata": {},
   "outputs": [],
   "source": [
    "def getallbyall(data, propont, alphaval):\n",
    "    #initialize zeros dataframe to store entries\n",
    "    allbyall_test = pd.DataFrame(index=list(propont), columns=list(propont))\n",
    "    allbyall_test = allbyall_test.fillna(0)\n",
    "    allbyall_train = pd.DataFrame(index=list(propont), columns=list(propont))\n",
    "    allbyall_train = allbyall_train.fillna(0)\n",
    "    \n",
    "    areas = list(propont)\n",
    "    #for each column, brain area\n",
    "    for i in range(propont.shape[1]):\n",
    "        print(\"col %d\" %i)\n",
    "        #for each row in each column\n",
    "        for j in range(i+1,propont.shape[1]): #upper triangular!\n",
    "            area1 = areas[i]\n",
    "            area2 = areas[j]\n",
    "            #get binary label vectors\n",
    "            ylabels = propont.loc[propont[area1]+propont[area2] != 0, area1]\n",
    "            #subset train and test sets for only samples in the two areas\n",
    "            Xcurr = data.loc[propont[area1]+propont[area2] != 0, :]\n",
    "            #split train test for X data and y labels\n",
    "            Xtrain, Xtest, ytrain, ytest = train_test_split(Xcurr, ylabels, test_size=0.2,\\\n",
    "                                                            random_state=42, shuffle=True,\\\n",
    "                                                            stratify=ylabels)\n",
    "            #further split for cross val\n",
    "\n",
    "            #z-score current X data\n",
    "            zXtrain = zscore(Xtrain)\n",
    "            zXtest = zscore(Xtest)\n",
    "            \n",
    "            currauroc_train, currauroc_test = applyLASSO(zXtrain, zXtest, ytrain, ytest, alphaval)\n",
    "            allbyall_train.iloc[i,j] = currauroc_train\n",
    "            allbyall_test.iloc[i,j] = currauroc_test\n",
    "            #curr_row[0,j] = currauroc\n",
    "            \n",
    "        #if i == 1:\n",
    "        break\n",
    "     \n",
    "    #return temp\n",
    "    return allbyall_train, allbyall_test"
   ]
  },
  {
   "cell_type": "markdown",
   "metadata": {},
   "source": [
    "# Main"
   ]
  },
  {
   "cell_type": "code",
   "execution_count": 7,
   "metadata": {},
   "outputs": [],
   "source": [
    "#pre-processing\n",
    "STspotsmeta, STspots, STpropont, ontology = read_data()"
   ]
  },
  {
   "cell_type": "code",
   "execution_count": 8,
   "metadata": {},
   "outputs": [],
   "source": [
    "STpropont = filterproponto(STpropont)"
   ]
  },
  {
   "cell_type": "code",
   "execution_count": 9,
   "metadata": {},
   "outputs": [],
   "source": [
    "STspots = STspots.astype('float64') #convert int to float for z-scoring\n",
    "#get leaf areas\n",
    "leaves = getleaves(STpropont, ontology)\n",
    "leafSTpropont = STpropont.loc[STspotsmeta.id.isin(leaves),leaves] #subset prop onto for leaf areas\n",
    "leafSTspots = STspots.loc[STspotsmeta.id.isin(leaves),:] #subset data for samples from leaves"
   ]
  },
  {
   "cell_type": "code",
   "execution_count": 20,
   "metadata": {},
   "outputs": [
    {
     "data": {
      "image/png": "[encoded data removed]",
      "text/plain": [
       "<Figure size 432x288 with 1 Axes>"
      ]
     },
     "metadata": {},
     "output_type": "display_data"
    }
   ],
   "source": [
    "#determine brain areas with sufficient sample size that we'll use for hyperparameter selection\n",
    "leafsizes = leafSTpropont.sum()\n",
    "plt.hist(leafsizes, bins=100)\n",
    "plt.xlabel(\"leaf brain area sizes ST\")\n",
    "plt.ylabel(\"number of brain areas\")\n",
    "plt.show()"
   ]
  },
  {
   "cell_type": "code",
   "execution_count": 49,
   "metadata": {},
   "outputs": [],
   "source": [
    "#filter propogated ontology for brain areas with X number of samples min\n",
    "leafsizes_sub = leafsizes[leafsizes>100]\n",
    "leafSTpropont_sub = leafSTpropont.loc[:,leafsizes_sub.index]"
   ]
  },
  {
   "cell_type": "code",
   "execution_count": 63,
   "metadata": {},
   "outputs": [],
   "source": [
    "#remove areas (rows) from propogated ontology that don't have any samples\n",
    "rowsum = leafSTpropont_sub.sum(axis=1)\n",
    "leafSTpropont_sub = leafSTpropont_sub.loc[rowsum > 0, :]"
   ]
  },
  {
   "cell_type": "code",
   "execution_count": 68,
   "metadata": {},
   "outputs": [],
   "source": [
    "#index samples for rows to match porp ont\n",
    "leafSTspots_sub = leafSTspots.loc[rowsum > 0, :]"
   ]
  },
  {
   "cell_type": "code",
   "execution_count": null,
   "metadata": {},
   "outputs": [
    {
     "name": "stdout",
     "output_type": "stream",
     "text": [
      "col 0\n"
     ]
    }
   ],
   "source": [
    "data = leafSTspots_sub\n",
    "propont = leafSTpropont_sub\n",
    "\n",
    "#initialize zeros dataframe to store entries\n",
    "bestscore = pd.DataFrame(index=list(propont), columns=list(propont))\n",
    "bestscore = bestscore.fillna(0)\n",
    "bestparams = pd.DataFrame(index=list(propont), columns=list(propont))\n",
    "bestparams = bestparams.fillna(0)\n",
    "#meantestscore = pd.DataFrame(index=list(propont), columns=list(propont))\n",
    "#meantestscore = meantestscore.fillna(0)\n",
    "\n",
    "areas = list(propont)\n",
    "#for each column, brain area\n",
    "for i in range(propont.shape[1]):\n",
    "    print(\"col %d\" %i)\n",
    "    #for each row in each column\n",
    "    for j in range(i+1,propont.shape[1]): #upper triangular!\n",
    "        area1 = areas[i]\n",
    "        area2 = areas[j]\n",
    "        #get binary label vectors\n",
    "        ylabels = propont.loc[propont[area1]+propont[area2] != 0, area1]\n",
    "        #subset train and test sets for only samples in the two areas\n",
    "        Xcurr = data.loc[propont[area1]+propont[area2] != 0, :]\n",
    "        \n",
    "        #z-score moved to before split for CV\n",
    "        zXcurr = zscore(Xcurr)\n",
    "        \n",
    "        #split train test for X data and y labels\n",
    "        #Xtrain, Xtest, ytrain, ytest = train_test_split(Xcurr, ylabels, test_size=0.2,\\\n",
    "        #                                                random_state=42, shuffle=True,\\\n",
    "        #                                                stratify=ylabels)\n",
    "        #further stratified splits for CV\n",
    "        ssplits = StratifiedShuffleSplit(n_splits=5, test_size=0.2, random_state=42)\n",
    "        ssplits.split(Xcurr,ylabels)\n",
    "        \n",
    "        #to actually get the folds\n",
    "        #for train_index, test_index in ssplits.split(Xcurr, ylabels):\n",
    "        #    #print(\"TRAIN:\", train_index, \"TEST:\", test_index)\n",
    "        #    X_train, X_test = Xcurr.iloc[train_index], Xcurr.iloc[test_index]\n",
    "        #    y_train, y_test = ylabels.iloc[train_index], ylabels.iloc[test_index]\n",
    "        \n",
    "        model = Lasso(max_iter=10000)\n",
    "        alpha = [0, 0.01, 0.05, 0.1, 0.2, 0.5, 0.9]\n",
    "        \n",
    "        grid = dict(alpha=alpha)\n",
    "        grid_search = GridSearchCV(estimator=model, param_grid=grid, n_jobs=-1, \\\n",
    "                                   cv=ssplits, scoring='roc_auc', error_score=-1)\n",
    "        grid_result = grid_search.fit(zXcurr,ylabels)\n",
    "\n",
    "\n",
    "        #z-score current X data\n",
    "        #zXtrain = zscore(Xtrain)\n",
    "        #zXtest = zscore(Xtest)\n",
    "\n",
    "        bestscore.iloc[i,j] = grid_result.best_score_\n",
    "        bestparams.iloc[i,j] = grid_result.best_params_['alpha']\n",
    "        #currmeantestscore = grid_result.cv_results_['mean_test_score'].values\n",
    "        #meantestscore.iloc[i,j] = currmeantestscore\n",
    "\n",
    "    #if i == 1:\n",
    "    #break"
   ]
  },
  {
   "cell_type": "code",
   "execution_count": null,
   "metadata": {},
   "outputs": [],
   "source": [
    "bestscore.to_csv(\"bestscore.csv\", sep=',', header=True, index=False)\n",
    "bestparams.to_csv(\"bestparams.csv\", sep=',', header=True, index=False)"
   ]
  },
  {
   "cell_type": "code",
   "execution_count": 150,
   "metadata": {},
   "outputs": [
    {
     "name": "stdout",
     "output_type": "stream",
     "text": [
      "done\n"
     ]
    }
   ],
   "source": [
    "print(\"done\")"
   ]
  },
  {
   "cell_type": "code",
   "execution_count": null,
   "metadata": {},
   "outputs": [],
   "source": []
  },
  {
   "cell_type": "code",
   "execution_count": 16,
   "metadata": {},
   "outputs": [
    {
     "name": "stdout",
     "output_type": "stream",
     "text": [
      "col 0\n"
     ]
    }
   ],
   "source": [
    "#predictability matrix using LASSO\n",
    "allbyall_train, allbyall_test = getallbyall(leafSTspots_sub, leafSTpropont_sub)"
   ]
  }
 ],
 "metadata": {
  "kernelspec": {
   "display_name": "Python 3",
   "language": "python",
   "name": "python3"
  },
  "language_info": {
   "codemirror_mode": {
    "name": "ipython",
    "version": 3
   },
   "file_extension": ".py",
   "mimetype": "text/x-python",
   "name": "python",
   "nbconvert_exporter": "python",
   "pygments_lexer": "ipython3",
   "version": "3.7.3"
  }
 },
 "nbformat": 4,
 "nbformat_minor": 4
}
