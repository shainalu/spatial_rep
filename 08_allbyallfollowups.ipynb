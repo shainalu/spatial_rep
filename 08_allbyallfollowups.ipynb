{
 "cells": [
  {
   "cell_type": "code",
   "execution_count": 1,
   "metadata": {},
   "outputs": [
    {
     "data": {
      "text/plain": [
       "'\\nfollow up analysis for ABA and ST all by all\\ndata figure 1\\n\\nShaina Lu\\nZador & Gillis Labs\\nApril 2020\\n'"
      ]
     },
     "execution_count": 1,
     "metadata": {},
     "output_type": "execute_result"
    }
   ],
   "source": [
    "\"\"\"\n",
    "follow up analysis for ABA and ST all by all\n",
    "data figure 1\n",
    "\n",
    "Shaina Lu\n",
    "Zador & Gillis Labs\n",
    "April 2020\n",
    "\"\"\""
   ]
  },
  {
   "cell_type": "code",
   "execution_count": 2,
   "metadata": {},
   "outputs": [],
   "source": [
    "from __future__ import division\n",
    "import matplotlib.pyplot as plt\n",
    "import seaborn as sns\n",
    "import pandas as pd\n",
    "import numpy as np\n",
    "import scipy as sp\n",
    "from scipy import stats\n",
    "from sklearn import metrics\n",
    "from sklearn.linear_model import Lasso\n",
    "from sklearn.linear_model import LinearRegression\n",
    "from sklearn.preprocessing import StandardScaler\n",
    "from sklearn.model_selection import train_test_split #stratify train/test split\n",
    "import random"
   ]
  },
  {
   "cell_type": "code",
   "execution_count": 3,
   "metadata": {},
   "outputs": [],
   "source": [
    "def set_style():\n",
    "    #function for matplotlib formatting\n",
    "    plt.style.use(['seaborn-white','seaborn-notebook'])\n",
    "    plt.rcParams['figure.figsize'] = [6,4]\n",
    "    plt.rcParams['axes.spines.top'] = False       #remove top line\n",
    "    plt.rcParams['axes.spines.right'] = False     #remove right line\n",
    "    plt.rcParams['axes.linewidth'] = 2.0          #set weight of axes\n",
    "    plt.rcParams['axes.titlesize'] = 20           #set font size of title\n",
    "    plt.rcParams['axes.labelsize'] = 18           #set font size of x,y labels\n",
    "    plt.rcParams['axes.labelpad'] = 14            #space between labels and axes\n",
    "    plt.rcParams['xtick.labelsize'] = 14          #set x label size\n",
    "    plt.rcParams['ytick.labelsize'] = 14          #set y label size\n",
    "    plt.rcParams['legend.fontsize'] = 16          #set legend font size\n",
    "    \n",
    "set_style()"
   ]
  },
  {
   "cell_type": "markdown",
   "metadata": {},
   "source": [
    "# Read in Data"
   ]
  },
  {
   "cell_type": "code",
   "execution_count": 4,
   "metadata": {},
   "outputs": [],
   "source": [
    "#infiles\n",
    "ST_CANTIN_FILT_PATH = \"/home/slu/spatial/data/cantin_ST_filt_v2.h5\"\n",
    "ALLEN_FILT_PATH = \"/home/slu/spatial/data/ABAISH_filt_v6_avgdup.h5\" #v6 averaged duplicates\n",
    "ONTOLOGY_PATH = \"/data/slu/allen_adult_mouse_ISH/ontologyABA.csv\""
   ]
  },
  {
   "cell_type": "code",
   "execution_count": 5,
   "metadata": {},
   "outputs": [],
   "source": [
    "#ontology\n",
    "ontology = pd.read_csv(ONTOLOGY_PATH)\n",
    "ontology = ontology.drop([ontology.columns[5], ontology.columns[6]], axis=1)\n",
    "ontology = ontology.fillna(-1)  #make root's parent -1"
   ]
  },
  {
   "cell_type": "code",
   "execution_count": 6,
   "metadata": {},
   "outputs": [],
   "source": [
    "#ST\n",
    "STspotsmeta = pd.read_hdf(ST_CANTIN_FILT_PATH, key='STspotsmeta', mode='r')\n",
    "STspots = pd.read_hdf(ST_CANTIN_FILT_PATH, key='STspots', mode='r')\n",
    "STpropont = pd.read_hdf(ST_CANTIN_FILT_PATH, key='STpropont', mode='r')"
   ]
  },
  {
   "cell_type": "code",
   "execution_count": 7,
   "metadata": {},
   "outputs": [],
   "source": [
    "#ABA\n",
    "ABAvoxmeta = pd.read_hdf(ALLEN_FILT_PATH, key='metabrain', mode='r')\n",
    "ABAvox = pd.read_hdf(ALLEN_FILT_PATH, key='avgvoxbrain', mode='r')\n",
    "ABApropont = pd.read_hdf(ALLEN_FILT_PATH, key='propontology', mode='r')\n",
    "geneIDName = pd.read_hdf(ALLEN_FILT_PATH, key='geneIDName', mode='r')"
   ]
  },
  {
   "cell_type": "markdown",
   "metadata": {},
   "source": [
    "__pre-filter ST and ABA datasets as is done for all by all in each case__"
   ]
  },
  {
   "cell_type": "markdown",
   "metadata": {},
   "source": [
    "copied and pasted pre-processing functions"
   ]
  },
  {
   "cell_type": "code",
   "execution_count": 8,
   "metadata": {},
   "outputs": [],
   "source": [
    "def zscore(voxbrain):\n",
    "    \"\"\"zscore voxbrain or subsets of voxbrain (rows: voxels, cols: genes)\"\"\"\n",
    "    #z-score \n",
    "    scaler = StandardScaler(copy=True, with_mean=True, with_std=True)\n",
    "    scaler.fit(voxbrain)\n",
    "    z_voxbrain = scaler.transform(voxbrain, copy=True)\n",
    "    \n",
    "    #store z-scored voxbrain as pandas dataframe\n",
    "    z_voxbrain = pd.DataFrame(z_voxbrain)\n",
    "    z_voxbrain.columns = voxbrain.columns\n",
    "    z_voxbrain.index = voxbrain.index\n",
    "    \n",
    "    return z_voxbrain\n",
    "\n",
    "def splitdata(data, testratio):\n",
    "    \"\"\"generic fcn to split data in train/test folds\"\"\"\n",
    "    #set seed so train and test will always split the same in diff run so ML algorithm doesn't see whole dataset (BAD)\n",
    "    np.random.seed(42)\n",
    "    shuffindices = np.random.permutation(len(data))\n",
    "    testsize = int(len(data) * testratio)\n",
    "    testindices = shuffindices[:testsize]\n",
    "    trainindices = shuffindices[testsize:]\n",
    "    return data.iloc[trainindices], data.iloc[testindices]\n",
    "\n",
    "def filterproponto(sampleonto):\n",
    "    \"\"\"pre-processing for propogated ontology for ST data\"\"\"\n",
    "    #remove brain areas that don't have any samples\n",
    "    sampleonto_sums = sampleonto.apply(lambda col: col.sum(), axis=0)\n",
    "    sampleonto = sampleonto.loc[:,sampleonto_sums > 5] #greater than 5 becuase less is not enough for train/test split to have non-zero areas\n",
    "    \n",
    "    return sampleonto\n",
    "\n",
    "def getleaves(propontvox, ontology):\n",
    "    #leaves are brain areas in the ontology that never show up in the parent column\n",
    "    allareas = list(propontvox)\n",
    "    parents = list(ontology.parent)\n",
    "    for i in range(len(parents)): #convert parents from float to int, ids are ints\n",
    "        parents[i] = int(parents[i])\n",
    "    \n",
    "    #remove parents from all areas\n",
    "    leaves = []\n",
    "    for area in allareas:\n",
    "        if int(area) not in parents:\n",
    "            leaves.append(area)\n",
    "    \n",
    "    return leaves"
   ]
  },
  {
   "cell_type": "code",
   "execution_count": 9,
   "metadata": {},
   "outputs": [],
   "source": [
    "#ST pre-processing\n",
    "STpropont = filterproponto(STpropont)\n",
    "STspots = STspots.astype('float64') #convert int to float for z-scoring\n",
    "#get leaf areas\n",
    "leaves = getleaves(STpropont, ontology)\n",
    "leafSTpropont = STpropont.loc[STspotsmeta.id.isin(leaves),leaves] #subset prop onto for leaf areas\n",
    "leafSTspots = STspots.loc[STspotsmeta.id.isin(leaves),:] #subset data for samples from leaves"
   ]
  },
  {
   "cell_type": "code",
   "execution_count": 10,
   "metadata": {},
   "outputs": [],
   "source": [
    "#ABA pre-processing\n",
    "ABApropont = filterproponto(ABApropont)\n",
    "#get leaf ares only\n",
    "leaves = getleaves(ABApropont,ontology)\n",
    "leafABApropont = ABApropont.loc[ABAvoxmeta.ids.isin(leaves),leaves] #subset propontvox for leaf areas\n",
    "leafABAvox = ABAvox.loc[ABAvoxmeta.ids.isin(leaves),:] #subset voxbrain for voxels from leaves"
   ]
  },
  {
   "cell_type": "markdown",
   "metadata": {},
   "source": [
    "# Examples for learnability of ARA brain areas in both ABA ISH and ST"
   ]
  },
  {
   "cell_type": "markdown",
   "metadata": {},
   "source": [
    "Explain what an AUROC means via example: in an average performing brain area in each dataset, how many voxels are misclassified?"
   ]
  },
  {
   "cell_type": "markdown",
   "metadata": {},
   "source": [
    "__read in AUROC files from ABA ISH and ST w/ lasso alpha = 0.1__"
   ]
  },
  {
   "cell_type": "code",
   "execution_count": 13,
   "metadata": {},
   "outputs": [],
   "source": [
    "#load in test AUROC's from ABA\n",
    "#TRAIN1_ALLBYALL_PATH = \"allbyallABA0p1_train0420.csv\"\n",
    "TEST1_ALLBYALL_PATH = \"/home/slu/spatial/data/allbyallABA0p1_test0420.csv\"\n",
    "#TRAIN2_ALLBYALL_PATH = \"allbyallABA0p1_f2_train0420.csv\"\n",
    "TEST2_ALLBYALL_PATH = \"/home/slu/spatial/data/allbyallABA0p1_f2_test0420.csv\""
   ]
  },
  {
   "cell_type": "code",
   "execution_count": 14,
   "metadata": {},
   "outputs": [],
   "source": [
    "#fold1\n",
    "#train_allbyall_f1 = pd.read_csv(TRAIN1_ALLBYALL_PATH, sep=',')\n",
    "#train_allbyall_f1 = train_allbyall_f1.set_index(train_allbyall_f1.columns)\n",
    "\n",
    "ABA_test_f1 = pd.read_csv(TEST1_ALLBYALL_PATH, sep=',')\n",
    "ABA_test_f1 = ABA_test_f1.set_index(ABA_test_f1.columns)\n",
    "\n",
    "#fold2\n",
    "#train_allbyall_f2 = pd.read_csv(TRAIN2_ALLBYALL_PATH, sep=',')\n",
    "#train_allbyall_f2 = train_allbyall_f2.set_index(train_allbyall_f2.columns)\n",
    "\n",
    "ABA_test_f2 = pd.read_csv(TEST2_ALLBYALL_PATH, sep=',')\n",
    "ABA_test_f2 = ABA_test_f2.set_index(ABA_test_f2.columns)"
   ]
  },
  {
   "cell_type": "code",
   "execution_count": 15,
   "metadata": {},
   "outputs": [],
   "source": [
    "#average the test performance across the two folds\n",
    "ABA_test_allbyall_avg = (ABA_test_f1 + ABA_test_f2)/2"
   ]
  },
  {
   "cell_type": "code",
   "execution_count": 16,
   "metadata": {},
   "outputs": [],
   "source": [
    "#ST\n",
    "ST_TEST1_ALLBYALL_PATH = \"/home/slu/spatial/data/allbyallST0p1_f1_test0508.csv\"\n",
    "ST_TEST2_ALLBYALL_PATH = \"/home/slu/spatial/data/allbyallST0p1_f2_test0508.csv\""
   ]
  },
  {
   "cell_type": "code",
   "execution_count": 17,
   "metadata": {},
   "outputs": [],
   "source": [
    "ST_test_f1 = pd.read_csv(ST_TEST1_ALLBYALL_PATH, sep=',')\n",
    "ST_test_f1 = ST_test_f1.set_index(ST_test_f1.columns)\n",
    "\n",
    "ST_test_f2 = pd.read_csv(ST_TEST2_ALLBYALL_PATH, sep=',')\n",
    "ST_test_f2 = ST_test_f2.set_index(ST_test_f2.columns)"
   ]
  },
  {
   "cell_type": "code",
   "execution_count": 18,
   "metadata": {},
   "outputs": [],
   "source": [
    "ST_test_allbyall_avg = (ST_test_f1 + ST_test_f2)/2"
   ]
  },
  {
   "cell_type": "markdown",
   "metadata": {},
   "source": [
    "__summary statistics to define an average performing area__"
   ]
  },
  {
   "cell_type": "code",
   "execution_count": 19,
   "metadata": {},
   "outputs": [],
   "source": [
    "ABA_test_avg_upper = ABA_test_allbyall_avg.values[np.triu_indices_from(ABA_test_allbyall_avg, k=1)]\n",
    "ABA_test_avg_upper = ABA_test_avg_upper[ABA_test_avg_upper != 0] #remove 0's"
   ]
  },
  {
   "cell_type": "code",
   "execution_count": 20,
   "metadata": {},
   "outputs": [
    {
     "data": {
      "text/plain": [
       "DescribeResult(nobs=156519, minmax=(0.18333333333333338, 1.0000000000000018), mean=0.9958435754281836, variance=0.0011406135866141062, skewness=-11.586730164203207, kurtosis=151.2754293908355)"
      ]
     },
     "execution_count": 20,
     "metadata": {},
     "output_type": "execute_result"
    }
   ],
   "source": [
    "sp.stats.describe(ABA_test_avg_upper)"
   ]
  },
  {
   "cell_type": "code",
   "execution_count": 21,
   "metadata": {},
   "outputs": [
    {
     "data": {
      "text/plain": [
       "1.0"
      ]
     },
     "execution_count": 21,
     "metadata": {},
     "output_type": "execute_result"
    }
   ],
   "source": [
    "np.median(ABA_test_avg_upper)"
   ]
  },
  {
   "cell_type": "code",
   "execution_count": 22,
   "metadata": {},
   "outputs": [
    {
     "name": "stdout",
     "output_type": "stream",
     "text": [
      "1.0\n",
      "1.0\n"
     ]
    }
   ],
   "source": [
    "#what's the median for either of the folds?\n",
    "print(np.median(ABA_test_f1.values[np.triu_indices_from(ABA_test_f1, k=1)]))\n",
    "print(np.median(ABA_test_f2.values[np.triu_indices_from(ABA_test_f2, k=1)]))"
   ]
  },
  {
   "cell_type": "code",
   "execution_count": 23,
   "metadata": {},
   "outputs": [],
   "source": [
    "ST_test_avg_upper = ST_test_allbyall_avg.values[np.triu_indices_from(ST_test_allbyall_avg, k=1)]\n",
    "#no 0's here"
   ]
  },
  {
   "cell_type": "code",
   "execution_count": 24,
   "metadata": {},
   "outputs": [
    {
     "data": {
      "text/plain": [
       "DescribeResult(nobs=106030, minmax=(0.04999999999999999, 1.0000000000000009), mean=0.8829401965771095, variance=0.023905302593669842, skewness=-1.487979543773035, kurtosis=1.4227267641611476)"
      ]
     },
     "execution_count": 24,
     "metadata": {},
     "output_type": "execute_result"
    }
   ],
   "source": [
    "sp.stats.describe(ST_test_avg_upper)"
   ]
  },
  {
   "cell_type": "code",
   "execution_count": 25,
   "metadata": {},
   "outputs": [
    {
     "data": {
      "text/plain": [
       "0.9591836734693878"
      ]
     },
     "execution_count": 25,
     "metadata": {},
     "output_type": "execute_result"
    }
   ],
   "source": [
    "np.median(ST_test_avg_upper)"
   ]
  },
  {
   "cell_type": "code",
   "execution_count": 26,
   "metadata": {},
   "outputs": [
    {
     "name": "stdout",
     "output_type": "stream",
     "text": [
      "0.9691119691119692\n",
      "0.9727272727272728\n"
     ]
    }
   ],
   "source": [
    "#what's the median for either of the folds?\n",
    "print(np.median(ST_test_f1.values[np.triu_indices_from(ST_test_f1, k=1)]))\n",
    "print(np.median(ST_test_f2.values[np.triu_indices_from(ST_test_f2, k=1)]))"
   ]
  },
  {
   "cell_type": "markdown",
   "metadata": {},
   "source": [
    "NOTE: the median did not change for either fold between the first version of this with the wrong filtering and the correct filtering. So did not re-run the rest of this sub-section."
   ]
  },
  {
   "cell_type": "code",
   "execution_count": 59,
   "metadata": {},
   "outputs": [
    {
     "name": "stdout",
     "output_type": "stream",
     "text": [
      "(array([ 14,  14,  46,  94,  94, 105, 105, 115, 166, 232, 342, 359, 362]), array([227, 362, 111, 111, 409, 306, 406, 166, 430, 289, 439, 430, 378]))\n"
     ]
    }
   ],
   "source": [
    "#which brain areas are the median performing area for the average?\n",
    "STmedareas = np.where(ST_test_allbyall_avg == 0.9591836734693878)\n",
    "print(STmedareas)"
   ]
  },
  {
   "cell_type": "code",
   "execution_count": 109,
   "metadata": {},
   "outputs": [
    {
     "name": "stdout",
     "output_type": "stream",
     "text": [
      "(array([ 38,  78,  97, 105, 139, 149, 178, 287]), array([460, 279, 431, 279, 390, 154, 223, 350]))\n",
      "(array([  2,  10,  23,  30,  50,  52,  91,  91,  96, 104, 104, 112, 116,\n",
      "       143, 185, 189, 225, 253, 260, 260, 286, 318, 371, 384, 386, 411]), array([101,  88, 414, 174, 451, 454, 196, 198, 386, 205, 373, 236, 422,\n",
      "       303, 260, 301, 451, 410, 361, 418, 360, 414, 418, 454, 457, 415]))\n"
     ]
    }
   ],
   "source": [
    "#what about the median of the two folds?\n",
    "fold1medareas = np.where(ST_test_f1 == 0.9691119691119692)\n",
    "print(fold1medareas)\n",
    "fold2medareas = np.where(ST_test_f2 == 0.9727272727272728)\n",
    "print(fold2medareas)"
   ]
  },
  {
   "cell_type": "code",
   "execution_count": 52,
   "metadata": {},
   "outputs": [
    {
     "data": {
      "text/plain": [
       "0.9591836734693878"
      ]
     },
     "execution_count": 52,
     "metadata": {},
     "output_type": "execute_result"
    }
   ],
   "source": [
    "ST_test_allbyall_avg.iloc[14,362]"
   ]
  },
  {
   "cell_type": "code",
   "execution_count": 75,
   "metadata": {},
   "outputs": [
    {
     "data": {
      "text/plain": [
       "1.0"
      ]
     },
     "execution_count": 75,
     "metadata": {},
     "output_type": "execute_result"
    }
   ],
   "source": [
    "ST_test_f1.iloc[14,362]"
   ]
  },
  {
   "cell_type": "markdown",
   "metadata": {},
   "source": [
    "For ABA, the median performing brain areas pairs have an AUROC=1, which means that they classify all voxels perfectly. For ST, there are 13 brain area pairs that have the median AUROC=0.9591836734693878 when the two test folds are averaged. Let's see how many spots are incorrectly classified for these brain area pairs in the following section. \\\n",
    "\\\n",
    "In the end we looked at the medians performing brain areas from each of the two folds separately because the median pairs from the averaged test fold may have a non-representative AUROC in one of the folds (i.e. AUROC=1)."
   ]
  },
  {
   "cell_type": "markdown",
   "metadata": {},
   "source": [
    "__How many incorrectly classified spots in ST median AUROC brain area pairs?__"
   ]
  },
  {
   "cell_type": "markdown",
   "metadata": {},
   "source": [
    "Here, we look at precision in the top half of the list."
   ]
  },
  {
   "cell_type": "code",
   "execution_count": 199,
   "metadata": {},
   "outputs": [],
   "source": [
    "#AUROC\n",
    "def analytical_auroc(featurevector, binarylabels):\n",
    "    \"\"\"analytical calculation of auroc\n",
    "       inputs: feature (mean rank of expression level), binary label\n",
    "       returns: auroc\n",
    "    \"\"\"\n",
    "    #sort ctxnotctx binary labels by mean rank, aescending\n",
    "    s = sorted(zip(featurevector, binarylabels))\n",
    "    feature_sort, binarylabels_sort = map(list, zip(*s))\n",
    "    #print(feature_sort)\n",
    "    print(binarylabels_sort)\n",
    "    \n",
    "    #how many 0's in the top half of the list?\n",
    "    numneg = 0\n",
    "    for i in range(len(binarylabels_sort)-1,int(len(binarylabels_sort)/2),-1): #include 1 extra in top half for odd length lists\n",
    "        if binarylabels_sort[i] == 1:\n",
    "            numneg += 1\n",
    "    #this is precision for the top half of the list\n",
    "    numneg = numneg/int(len(binarylabels_sort)/2)\n",
    "\n",
    "    #get the sum of the ranks in feature vector corresponding to 1's in binary vector\n",
    "    sumranks = 0\n",
    "    for i in range(len(binarylabels_sort)):\n",
    "        if binarylabels_sort[i] == 1:\n",
    "            sumranks = sumranks + feature_sort[i]\n",
    "    \n",
    "    poslabels = binarylabels.sum()\n",
    "    neglabels = (len(binarylabels) - poslabels) #- (len(binarylabels) - binarylabels.count())  #trying to subtract out \n",
    "    \n",
    "    auroc = ((sumranks/(neglabels*poslabels)) - ((poslabels+1)/(2*neglabels)))\n",
    "    \n",
    "    return auroc, numneg"
   ]
  },
  {
   "cell_type": "code",
   "execution_count": 188,
   "metadata": {},
   "outputs": [],
   "source": [
    "#probe specific brain areas we're interested in\n",
    "def probemedianareas(data,propont,medareas): \n",
    "    areas = list(propont)\n",
    "    precision1 = []\n",
    "    for i in range(len(medareas[0])):\n",
    "        area1 = areas[medareas[0][i]]\n",
    "        area2 = areas[medareas[1][i]]\n",
    "        #print(area1)\n",
    "        #print(area2)\n",
    "        #get binary label vectors\n",
    "        ylabels = propont.loc[propont[area1]+propont[area2] != 0, area1]\n",
    "        #subset train and test sets for only samples in the two areas\n",
    "        Xcurr = data.loc[propont[area1]+propont[area2] != 0, :]\n",
    "        #split train test for X data and y labels\n",
    "        #split data function is seeded so all will split the same wa\n",
    "        Xtrain, Xtest, ytrain, ytest = train_test_split(Xcurr, ylabels, test_size=0.5,\\\n",
    "                                                        random_state=42, shuffle=True,\\\n",
    "                                                        stratify=ylabels)\n",
    "\n",
    "        #z-score current X data\n",
    "        zXtrain = zscore(Xtrain)\n",
    "        zXtest = zscore(Xtest)\n",
    "\n",
    "        #LASSO\n",
    "        #currauroc_train, currauroc_test = applyLASSO(zXtrain, zXtest, ytrain, ytest)\n",
    "        lasso_reg = Lasso(alpha=0.1, max_iter=10000)\n",
    "        #lasso_reg = LinearRegression()\n",
    "        lasso_reg.fit(zXtrain, ytrain)\n",
    "\n",
    "        #train\n",
    "        predictions_train = lasso_reg.predict(zXtrain)\n",
    "        #auroc_train = analytical_auroc(sp.stats.mstats.rankdata(predictions_train), ytrain)\n",
    "        #test\n",
    "        predictions_test = lasso_reg.predict(zXtest)\n",
    "        auroc_test, currtopnegcount = analytical_auroc(sp.stats.mstats.rankdata(predictions_test), ytest)\n",
    "        fpr, tpr, thresholds = metrics.roc_curve(y_true = ytest, y_score = predictions_test, pos_label = 1, drop_intermediate=False)\n",
    "        precision1.append(currtopnegcount)\n",
    "    \n",
    "    return precision1"
   ]
  },
  {
   "cell_type": "code",
   "execution_count": 191,
   "metadata": {},
   "outputs": [],
   "source": [
    "STprecision1 = probemedianareas(leafSTspots, leafSTpropont, fold1medareas)\n",
    "STprecision2 = probemedianareas(leafSTspots, leafSTpropont, fold2medareas)"
   ]
  },
  {
   "cell_type": "code",
   "execution_count": 202,
   "metadata": {},
   "outputs": [
    {
     "name": "stdout",
     "output_type": "stream",
     "text": [
      "0.7399265227526097\n",
      "0.7471516927741624\n"
     ]
    }
   ],
   "source": [
    "print(np.mean(STprecision1))\n",
    "print(np.mean(STprecision2))"
   ]
  },
  {
   "cell_type": "markdown",
   "metadata": {},
   "source": [
    "So, what ended up happening basically is that I calculated precision for the top half of any given list of ranked samples for the median performing brain area pairs. Saved as variables precision1 and precision2."
   ]
  },
  {
   "cell_type": "markdown",
   "metadata": {},
   "source": [
    "Look at precision when I get all the 1's - i.e. all the instances of one class"
   ]
  },
  {
   "cell_type": "code",
   "execution_count": 212,
   "metadata": {},
   "outputs": [],
   "source": [
    "#AUROC\n",
    "def analytical_auroc(featurevector, binarylabels):\n",
    "    \"\"\"analytical calculation of auroc\n",
    "       inputs: feature (mean rank of expression level), binary label\n",
    "       returns: auroc\n",
    "    \"\"\"\n",
    "    #sort ctxnotctx binary labels by mean rank, aescending\n",
    "    s = sorted(zip(featurevector, binarylabels))\n",
    "    feature_sort, binarylabels_sort = map(list, zip(*s))\n",
    "    #print(feature_sort)\n",
    "    #print(binarylabels_sort)\n",
    "    \n",
    "    #how many 0's until i reach my last 1?\n",
    "    truepos = 0\n",
    "    for i in range(len(binarylabels_sort)-1,0,-1): #backwards cause sorted aescending\n",
    "        if binarylabels_sort[i] == 1:\n",
    "            truepos += 1\n",
    "            lastposindex = i\n",
    "    \n",
    "    falsepos = 0\n",
    "    for i in range(len(binarylabels_sort)-1,lastposindex,-1):\n",
    "        if binarylabels_sort[i] == 0:\n",
    "            falsepos += 1\n",
    "            \n",
    "    #this is precision for the top half of the list\n",
    "    precision = truepos/(truepos+falsepos)\n",
    "\n",
    "    #get the sum of the ranks in feature vector corresponding to 1's in binary vector\n",
    "    sumranks = 0\n",
    "    for i in range(len(binarylabels_sort)):\n",
    "        if binarylabels_sort[i] == 1:\n",
    "            sumranks = sumranks + feature_sort[i]\n",
    "    \n",
    "    poslabels = binarylabels.sum()\n",
    "    neglabels = (len(binarylabels) - poslabels) #- (len(binarylabels) - binarylabels.count())  #trying to subtract out \n",
    "    \n",
    "    auroc = ((sumranks/(neglabels*poslabels)) - ((poslabels+1)/(2*neglabels)))\n",
    "    \n",
    "    return auroc, precision"
   ]
  },
  {
   "cell_type": "code",
   "execution_count": 213,
   "metadata": {},
   "outputs": [],
   "source": [
    "STprecision1 = probemedianareas(leafSTspots, leafSTpropont, fold1medareas)\n",
    "STprecision2 = probemedianareas(leafSTspots, leafSTpropont, fold2medareas)"
   ]
  },
  {
   "cell_type": "code",
   "execution_count": 214,
   "metadata": {},
   "outputs": [
    {
     "name": "stdout",
     "output_type": "stream",
     "text": [
      "0.8367102342422437\n",
      "0.848750084932345\n"
     ]
    }
   ],
   "source": [
    "print(np.mean(STprecision1))\n",
    "print(np.mean(STprecision2))"
   ]
  },
  {
   "cell_type": "code",
   "execution_count": 216,
   "metadata": {},
   "outputs": [
    {
     "data": {
      "text/plain": [
       "0.8459171788876152"
      ]
     },
     "execution_count": 216,
     "metadata": {},
     "output_type": "execute_result"
    }
   ],
   "source": [
    "np.mean([*STprecision1, *STprecision2])"
   ]
  },
  {
   "cell_type": "markdown",
   "metadata": {},
   "source": [
    "For the median performing pair of brain areas in ABA ISH, there is a threshold in classification that can be drawn where I can correctly predict all instances of one class without any false positives (precision = 1). In contrast, in the ST, no such threshold can be found for the median performing brain areas (average precision = 0.846)."
   ]
  },
  {
   "cell_type": "markdown",
   "metadata": {},
   "source": [
    "# Caudoputamen: relationship between size and performance?"
   ]
  },
  {
   "cell_type": "markdown",
   "metadata": {},
   "source": [
    "In the ABA ISH, the CP is the lowest performing brain area (it stands out on the heat map) and it happens to be the largest leaf brain area by sample size (and volume by definition). So, we ask: \n",
    "1. Is there a correlation between size and performance in general?\n",
    "2. Does performance rise as you downsample in a particular brain region?\n",
    "3. Is the CP more transcriptionally diverse in general? (average correlation of voxel profiles)"
   ]
  },
  {
   "cell_type": "markdown",
   "metadata": {},
   "source": [
    "__What is the lowest performing area in ST? (Is it also the Caudoputamen?)__"
   ]
  },
  {
   "cell_type": "code",
   "execution_count": 111,
   "metadata": {},
   "outputs": [],
   "source": [
    "def copyoverdiag(allbyall):\n",
    "    #copy uppertriangular to lower triangular\n",
    "    allbyall2 = allbyall\n",
    "    allbyall2 = allbyall.fillna(0, inplace=False)\n",
    "    temp = allbyall2.T\n",
    "    allbyall2 = allbyall2.values  #convert to numpy\n",
    "    temp = temp.values\n",
    "    allbyall2[np.tril_indices_from(allbyall)] = temp[np.tril_indices_from(allbyall)]\n",
    "    \n",
    "    return allbyall2"
   ]
  },
  {
   "cell_type": "code",
   "execution_count": 112,
   "metadata": {},
   "outputs": [],
   "source": [
    "STavgfull = copyoverdiag(ST_test_allbyall_avg)"
   ]
  },
  {
   "cell_type": "code",
   "execution_count": 117,
   "metadata": {},
   "outputs": [
    {
     "data": {
      "text/plain": [
       "0.5889431987780576"
      ]
     },
     "execution_count": 117,
     "metadata": {},
     "output_type": "execute_result"
    }
   ],
   "source": [
    "min(np.mean(STavgfull, axis=0))"
   ]
  },
  {
   "cell_type": "code",
   "execution_count": 119,
   "metadata": {},
   "outputs": [
    {
     "data": {
      "text/plain": [
       "(array([450]),)"
      ]
     },
     "execution_count": 119,
     "metadata": {},
     "output_type": "execute_result"
    }
   ],
   "source": [
    "np.where(np.mean(STavgfull, axis=0) == 0.5889431987780576)"
   ]
  },
  {
   "cell_type": "code",
   "execution_count": 121,
   "metadata": {},
   "outputs": [
    {
     "data": {
      "text/plain": [
       "'421'"
      ]
     },
     "execution_count": 121,
     "metadata": {},
     "output_type": "execute_result"
    }
   ],
   "source": [
    "list(ST_test_allbyall_avg)[450]"
   ]
  },
  {
   "cell_type": "code",
   "execution_count": 125,
   "metadata": {},
   "outputs": [
    {
     "data": {
      "text/html": [
       "<div>\n",
       "<style scoped>\n",
       "    .dataframe tbody tr th:only-of-type {\n",
       "        vertical-align: middle;\n",
       "    }\n",
       "\n",
       "    .dataframe tbody tr th {\n",
       "        vertical-align: top;\n",
       "    }\n",
       "\n",
       "    .dataframe thead th {\n",
       "        text-align: right;\n",
       "    }\n",
       "</style>\n",
       "<table border=\"1\" class=\"dataframe\">\n",
       "  <thead>\n",
       "    <tr style=\"text-align: right;\">\n",
       "      <th></th>\n",
       "      <th>id</th>\n",
       "      <th>acronym</th>\n",
       "      <th>name</th>\n",
       "      <th>parent</th>\n",
       "      <th>allencolor</th>\n",
       "    </tr>\n",
       "  </thead>\n",
       "  <tbody>\n",
       "    <tr>\n",
       "      <th>1258</th>\n",
       "      <td>421</td>\n",
       "      <td>VISl1</td>\n",
       "      <td>Lateral visual area, layer 1</td>\n",
       "      <td>409.0</td>\n",
       "      <td>#08858C</td>\n",
       "    </tr>\n",
       "  </tbody>\n",
       "</table>\n",
       "</div>"
      ],
      "text/plain": [
       "       id acronym                          name  parent allencolor\n",
       "1258  421   VISl1  Lateral visual area, layer 1   409.0    #08858C"
      ]
     },
     "execution_count": 125,
     "metadata": {},
     "output_type": "execute_result"
    }
   ],
   "source": [
    "ontology.loc[ontology.id == 421,:]"
   ]
  },
  {
   "cell_type": "markdown",
   "metadata": {},
   "source": [
    "No, the lowest performing area in the ST is not the CP, but VISI1 or lateral visual area, layer 1. "
   ]
  },
  {
   "cell_type": "code",
   "execution_count": 152,
   "metadata": {},
   "outputs": [],
   "source": [
    "for i in range(len(list(ST_test_allbyall_avg))):\n",
    "    if list(ST_test_allbyall_avg)[i] == '672': #CP\n",
    "        index = i"
   ]
  },
  {
   "cell_type": "code",
   "execution_count": 154,
   "metadata": {},
   "outputs": [
    {
     "data": {
      "text/plain": [
       "0.6193299545540688"
      ]
     },
     "execution_count": 154,
     "metadata": {},
     "output_type": "execute_result"
    }
   ],
   "source": [
    "np.mean(STavgfull, axis=0)[index]"
   ]
  },
  {
   "cell_type": "markdown",
   "metadata": {},
   "source": [
    "__Is there a correlation between size and performance in general?__"
   ]
  },
  {
   "cell_type": "markdown",
   "metadata": {},
   "source": [
    "Note: all by all AUROC data already read in above"
   ]
  },
  {
   "cell_type": "code",
   "execution_count": 31,
   "metadata": {},
   "outputs": [],
   "source": [
    "#get number of samples per brain area\n",
    "ABAsize = leafABApropont.sum(axis=0)\n",
    "STsize = leafSTpropont.sum(axis=0)"
   ]
  },
  {
   "cell_type": "code",
   "execution_count": 34,
   "metadata": {},
   "outputs": [
    {
     "name": "stdout",
     "output_type": "stream",
     "text": [
      "3012.0\n",
      "2051.0\n"
     ]
    }
   ],
   "source": [
    "#number of samples in CP in each dataset\n",
    "print(ABAsize['672'])\n",
    "print(STsize['672'])"
   ]
  },
  {
   "cell_type": "code",
   "execution_count": 36,
   "metadata": {},
   "outputs": [
    {
     "name": "stdout",
     "output_type": "stream",
     "text": [
      "85.62075134168157\n",
      "57.02608695652174\n"
     ]
    }
   ],
   "source": [
    "#average number of samples not including CP\n",
    "print(ABAsize.drop('672').mean())\n",
    "print(STsize.drop('672').mean())"
   ]
  },
  {
   "cell_type": "code",
   "execution_count": 45,
   "metadata": {},
   "outputs": [],
   "source": [
    "def getminsize(aurocdata,size):\n",
    "    maxsize = pd.DataFrame(index=list(aurocdata),columns=list(aurocdata))\n",
    "    minsize = pd.DataFrame(index=list(aurocdata),columns=list(aurocdata))\n",
    "    areas = list(aurocdata)\n",
    "    for i in range(aurocdata.shape[0]):\n",
    "        size1 = size[areas[i]]\n",
    "        print(i)\n",
    "        for j in range(i+1,aurocdata.shape[0]):\n",
    "            size2 = size[areas[j]]\n",
    "            minsize.iloc[i,j] = min(size1,size2)\n",
    "            maxsize.iloc[i,j] = max(size1,size2)\n",
    "    \n",
    "    return minsize, maxsize"
   ]
  },
  {
   "cell_type": "code",
   "execution_count": null,
   "metadata": {
    "collapsed": true,
    "jupyter": {
     "outputs_hidden": true
    }
   },
   "outputs": [
    {
     "name": "stdout",
     "output_type": "stream",
     "text": [
      "0\n",
      "1\n",
      "2\n",
      "3\n",
      "4\n",
      "5\n",
      "6\n",
      "7\n",
      "8\n",
      "9\n",
      "10\n",
      "11\n",
      "12\n",
      "13\n",
      "14\n",
      "15\n",
      "16\n",
      "17\n",
      "18\n",
      "19\n",
      "20\n",
      "21\n",
      "22\n",
      "23\n",
      "24\n",
      "25\n",
      "26\n",
      "27\n",
      "28\n",
      "29\n",
      "30\n",
      "31\n",
      "32\n",
      "33\n",
      "34\n",
      "35\n",
      "36\n",
      "37\n",
      "38\n",
      "39\n",
      "40\n",
      "41\n",
      "42\n",
      "43\n",
      "44\n",
      "45\n",
      "46\n",
      "47\n",
      "48\n",
      "49\n",
      "50\n",
      "51\n",
      "52\n",
      "53\n",
      "54\n",
      "55\n",
      "56\n",
      "57\n",
      "58\n",
      "59\n",
      "60\n",
      "61\n",
      "62\n",
      "63\n",
      "64\n",
      "65\n",
      "66\n",
      "67\n",
      "68\n",
      "69\n",
      "70\n",
      "71\n",
      "72\n",
      "73\n",
      "74\n",
      "75\n",
      "76\n",
      "77\n",
      "78\n",
      "79\n",
      "80\n",
      "81\n",
      "82\n",
      "83\n",
      "84\n",
      "85\n",
      "86\n",
      "87\n",
      "88\n",
      "89\n",
      "90\n",
      "91\n",
      "92\n",
      "93\n",
      "94\n",
      "95\n",
      "96\n",
      "97\n",
      "98\n",
      "99\n",
      "100\n",
      "101\n",
      "102\n",
      "103\n",
      "104\n",
      "105\n",
      "106\n",
      "107\n",
      "108\n",
      "109\n",
      "110\n",
      "111\n",
      "112\n",
      "113\n",
      "114\n",
      "115\n",
      "116\n",
      "117\n",
      "118\n",
      "119\n",
      "120\n",
      "121\n",
      "122\n",
      "123\n",
      "124\n",
      "125\n",
      "126\n",
      "127\n",
      "128\n",
      "129\n",
      "130\n",
      "131\n",
      "132\n",
      "133\n",
      "134\n",
      "135\n",
      "136\n",
      "137\n",
      "138\n",
      "139\n",
      "140\n",
      "141\n",
      "142\n",
      "143\n",
      "144\n",
      "145\n",
      "146\n",
      "147\n",
      "148\n",
      "149\n",
      "150\n",
      "151\n",
      "152\n",
      "153\n",
      "154\n",
      "155\n",
      "156\n",
      "157\n",
      "158\n",
      "159\n",
      "160\n",
      "161\n",
      "162\n",
      "163\n",
      "164\n",
      "165\n",
      "166\n",
      "167\n",
      "168\n",
      "169\n",
      "170\n",
      "171\n",
      "172\n",
      "173\n",
      "174\n",
      "175\n",
      "176\n",
      "177\n",
      "178\n",
      "179\n",
      "180\n",
      "181\n",
      "182\n",
      "183\n",
      "184\n",
      "185\n",
      "186\n",
      "187\n",
      "188\n",
      "189\n",
      "190\n",
      "191\n",
      "192\n",
      "193\n",
      "194\n",
      "195\n",
      "196\n",
      "197\n",
      "198\n",
      "199\n",
      "200\n",
      "201\n",
      "202\n",
      "203\n",
      "204\n",
      "205\n",
      "206\n",
      "207\n",
      "208\n",
      "209\n",
      "210\n",
      "211\n",
      "212\n",
      "213\n",
      "214\n",
      "215\n",
      "216\n",
      "217\n",
      "218\n",
      "219\n",
      "220\n",
      "221\n",
      "222\n",
      "223\n",
      "224\n",
      "225\n",
      "226\n",
      "227\n",
      "228\n",
      "229\n",
      "230\n",
      "231\n",
      "232\n",
      "233\n",
      "234\n",
      "235\n",
      "236\n",
      "237\n",
      "238\n",
      "239\n",
      "240\n",
      "241\n",
      "242\n",
      "243\n",
      "244\n",
      "245\n",
      "246\n",
      "247\n",
      "248\n",
      "249\n",
      "250\n",
      "251\n",
      "252\n",
      "253\n",
      "254\n",
      "255\n",
      "256\n",
      "257\n",
      "258\n",
      "259\n",
      "260\n",
      "261\n",
      "262\n",
      "263\n",
      "264\n",
      "265\n",
      "266\n",
      "267\n",
      "268\n",
      "269\n",
      "270\n",
      "271\n",
      "272\n",
      "273\n",
      "274\n",
      "275\n",
      "276\n",
      "277\n",
      "278\n",
      "279\n",
      "280\n",
      "281\n",
      "282\n",
      "283\n",
      "284\n"
     ]
    }
   ],
   "source": [
    "ABAminsize, ABAmaxsize = getminsize(ABA_test_allbyall_avg, ABAsize)"
   ]
  },
  {
   "cell_type": "code",
   "execution_count": 49,
   "metadata": {
    "collapsed": true,
    "jupyter": {
     "outputs_hidden": true
    }
   },
   "outputs": [
    {
     "name": "stdout",
     "output_type": "stream",
     "text": [
      "0\n",
      "1\n",
      "2\n",
      "3\n",
      "4\n",
      "5\n",
      "6\n",
      "7\n",
      "8\n",
      "9\n",
      "10\n",
      "11\n",
      "12\n",
      "13\n",
      "14\n",
      "15\n",
      "16\n",
      "17\n",
      "18\n",
      "19\n",
      "20\n",
      "21\n",
      "22\n",
      "23\n",
      "24\n",
      "25\n",
      "26\n",
      "27\n",
      "28\n",
      "29\n",
      "30\n",
      "31\n",
      "32\n",
      "33\n",
      "34\n",
      "35\n",
      "36\n",
      "37\n",
      "38\n",
      "39\n",
      "40\n",
      "41\n",
      "42\n",
      "43\n",
      "44\n",
      "45\n",
      "46\n",
      "47\n",
      "48\n",
      "49\n",
      "50\n",
      "51\n",
      "52\n",
      "53\n",
      "54\n",
      "55\n",
      "56\n",
      "57\n",
      "58\n",
      "59\n",
      "60\n",
      "61\n",
      "62\n",
      "63\n",
      "64\n",
      "65\n",
      "66\n",
      "67\n",
      "68\n",
      "69\n",
      "70\n",
      "71\n",
      "72\n",
      "73\n",
      "74\n",
      "75\n",
      "76\n",
      "77\n",
      "78\n",
      "79\n",
      "80\n",
      "81\n",
      "82\n",
      "83\n",
      "84\n",
      "85\n",
      "86\n",
      "87\n",
      "88\n",
      "89\n",
      "90\n",
      "91\n",
      "92\n",
      "93\n",
      "94\n",
      "95\n",
      "96\n",
      "97\n",
      "98\n",
      "99\n",
      "100\n",
      "101\n",
      "102\n",
      "103\n",
      "104\n",
      "105\n",
      "106\n",
      "107\n",
      "108\n",
      "109\n",
      "110\n",
      "111\n",
      "112\n",
      "113\n",
      "114\n",
      "115\n",
      "116\n",
      "117\n",
      "118\n",
      "119\n",
      "120\n",
      "121\n",
      "122\n",
      "123\n",
      "124\n",
      "125\n",
      "126\n",
      "127\n",
      "128\n",
      "129\n",
      "130\n",
      "131\n",
      "132\n",
      "133\n",
      "134\n",
      "135\n",
      "136\n",
      "137\n",
      "138\n",
      "139\n",
      "140\n",
      "141\n",
      "142\n",
      "143\n",
      "144\n",
      "145\n",
      "146\n",
      "147\n",
      "148\n",
      "149\n",
      "150\n",
      "151\n",
      "152\n",
      "153\n",
      "154\n",
      "155\n",
      "156\n",
      "157\n",
      "158\n",
      "159\n",
      "160\n",
      "161\n",
      "162\n",
      "163\n",
      "164\n",
      "165\n",
      "166\n",
      "167\n",
      "168\n",
      "169\n",
      "170\n",
      "171\n",
      "172\n",
      "173\n",
      "174\n",
      "175\n",
      "176\n",
      "177\n",
      "178\n",
      "179\n",
      "180\n",
      "181\n",
      "182\n",
      "183\n",
      "184\n",
      "185\n",
      "186\n",
      "187\n",
      "188\n",
      "189\n",
      "190\n",
      "191\n",
      "192\n",
      "193\n",
      "194\n",
      "195\n",
      "196\n",
      "197\n",
      "198\n",
      "199\n",
      "200\n",
      "201\n",
      "202\n",
      "203\n",
      "204\n",
      "205\n",
      "206\n",
      "207\n",
      "208\n",
      "209\n",
      "210\n",
      "211\n",
      "212\n",
      "213\n",
      "214\n",
      "215\n",
      "216\n",
      "217\n",
      "218\n",
      "219\n",
      "220\n",
      "221\n",
      "222\n",
      "223\n",
      "224\n",
      "225\n",
      "226\n",
      "227\n",
      "228\n",
      "229\n",
      "230\n",
      "231\n",
      "232\n",
      "233\n",
      "234\n",
      "235\n",
      "236\n",
      "237\n",
      "238\n",
      "239\n",
      "240\n",
      "241\n",
      "242\n",
      "243\n",
      "244\n",
      "245\n",
      "246\n",
      "247\n",
      "248\n",
      "249\n",
      "250\n",
      "251\n",
      "252\n",
      "253\n",
      "254\n",
      "255\n",
      "256\n",
      "257\n",
      "258\n",
      "259\n",
      "260\n",
      "261\n",
      "262\n",
      "263\n",
      "264\n",
      "265\n",
      "266\n",
      "267\n",
      "268\n",
      "269\n",
      "270\n",
      "271\n",
      "272\n",
      "273\n",
      "274\n",
      "275\n",
      "276\n",
      "277\n",
      "278\n",
      "279\n",
      "280\n",
      "281\n",
      "282\n",
      "283\n",
      "284\n",
      "285\n",
      "286\n",
      "287\n",
      "288\n",
      "289\n",
      "290\n",
      "291\n",
      "292\n",
      "293\n",
      "294\n",
      "295\n",
      "296\n",
      "297\n",
      "298\n",
      "299\n",
      "300\n",
      "301\n",
      "302\n",
      "303\n",
      "304\n",
      "305\n",
      "306\n",
      "307\n",
      "308\n",
      "309\n",
      "310\n",
      "311\n",
      "312\n",
      "313\n",
      "314\n",
      "315\n",
      "316\n",
      "317\n",
      "318\n",
      "319\n",
      "320\n",
      "321\n",
      "322\n",
      "323\n",
      "324\n",
      "325\n",
      "326\n",
      "327\n",
      "328\n",
      "329\n",
      "330\n",
      "331\n",
      "332\n",
      "333\n",
      "334\n",
      "335\n",
      "336\n",
      "337\n",
      "338\n",
      "339\n",
      "340\n",
      "341\n",
      "342\n",
      "343\n",
      "344\n",
      "345\n",
      "346\n",
      "347\n",
      "348\n",
      "349\n",
      "350\n",
      "351\n",
      "352\n",
      "353\n",
      "354\n",
      "355\n",
      "356\n",
      "357\n",
      "358\n",
      "359\n",
      "360\n",
      "361\n",
      "362\n",
      "363\n",
      "364\n",
      "365\n",
      "366\n",
      "367\n",
      "368\n",
      "369\n",
      "370\n",
      "371\n",
      "372\n",
      "373\n",
      "374\n",
      "375\n",
      "376\n",
      "377\n",
      "378\n",
      "379\n",
      "380\n",
      "381\n",
      "382\n",
      "383\n",
      "384\n",
      "385\n",
      "386\n",
      "387\n",
      "388\n",
      "389\n",
      "390\n",
      "391\n",
      "392\n",
      "393\n",
      "394\n",
      "395\n",
      "396\n",
      "397\n",
      "398\n",
      "399\n",
      "400\n",
      "401\n",
      "402\n",
      "403\n",
      "404\n",
      "405\n",
      "406\n",
      "407\n",
      "408\n",
      "409\n",
      "410\n",
      "411\n",
      "412\n",
      "413\n",
      "414\n",
      "415\n",
      "416\n",
      "417\n",
      "418\n",
      "419\n",
      "420\n",
      "421\n",
      "422\n",
      "423\n",
      "424\n",
      "425\n",
      "426\n",
      "427\n",
      "428\n",
      "429\n",
      "430\n",
      "431\n",
      "432\n",
      "433\n",
      "434\n",
      "435\n",
      "436\n",
      "437\n",
      "438\n",
      "439\n",
      "440\n",
      "441\n",
      "442\n",
      "443\n",
      "444\n",
      "445\n",
      "446\n",
      "447\n",
      "448\n",
      "449\n",
      "450\n",
      "451\n",
      "452\n",
      "453\n",
      "454\n",
      "455\n",
      "456\n",
      "457\n",
      "458\n",
      "459\n",
      "460\n"
     ]
    }
   ],
   "source": [
    "STminsize, STmaxsize = getminsize(ST_test_allbyall_avg, STsize)"
   ]
  },
  {
   "cell_type": "code",
   "execution_count": 77,
   "metadata": {},
   "outputs": [],
   "source": [
    "#get upper triangulars\n",
    "ABA_test_avg_upper = ABA_test_allbyall_avg.values[np.triu_indices_from(ABA_test_allbyall_avg, k=1)]\n",
    "ST_test_avg_upper = ST_test_allbyall_avg.values[np.triu_indices_from(ST_test_allbyall_avg, k=1)]\n",
    "ABAminsize_upper = ABAminsize.values[np.triu_indices_from(ABAminsize, k=1)]\n",
    "STminsize_upper = STminsize.values[np.triu_indices_from(STminsize, k=1)]\n",
    "ABAmaxsize_upper = ABAmaxsize.values[np.triu_indices_from(ABAmaxsize, k=1)]\n",
    "STmaxsize_upper = STmaxsize.values[np.triu_indices_from(STmaxsize, k=1)]"
   ]
  },
  {
   "cell_type": "markdown",
   "metadata": {},
   "source": [
    "Performance as a function of minimum size"
   ]
  },
  {
   "cell_type": "code",
   "execution_count": 84,
   "metadata": {},
   "outputs": [
    {
     "data": {
      "image/png": "[encoded data removed]",
      "text/plain": [
       "<Figure size 432x288 with 1 Axes>"
      ]
     },
     "metadata": {},
     "output_type": "display_data"
    }
   ],
   "source": [
    "plt.scatter(ABAminsize_upper, ABA_test_avg_upper)\n",
    "plt.xlabel(\"minimum size of the two brain areas\\nABA ISH\")\n",
    "plt.ylabel(\"AUROC\")\n",
    "plt.savefig(\"051220_5.png\", bbox_inches='tight')\n",
    "plt.show()"
   ]
  },
  {
   "cell_type": "code",
   "execution_count": 85,
   "metadata": {},
   "outputs": [
    {
     "data": {
      "image/png": "[encoded data removed]",
      "text/plain": [
       "<Figure size 432x432 with 3 Axes>"
      ]
     },
     "metadata": {},
     "output_type": "display_data"
    }
   ],
   "source": [
    "sns.jointplot(ABAminsize_upper, ABA_test_avg_upper, kind='hex') \\\n",
    "   .set_axis_labels(\"minimum size of the two brain areas\\nABA ISH\", \"AUROC\")\n",
    "plt.savefig(\"051220_6.pdf\", bbox_inches='tight')\n",
    "plt.show()"
   ]
  },
  {
   "cell_type": "code",
   "execution_count": 86,
   "metadata": {},
   "outputs": [
    {
     "data": {
      "image/png": "[encoded data removed]",
      "text/plain": [
       "<Figure size 432x288 with 1 Axes>"
      ]
     },
     "metadata": {},
     "output_type": "display_data"
    }
   ],
   "source": [
    "plt.scatter(STminsize_upper, ST_test_avg_upper)\n",
    "plt.xlabel(\"minimum size of the two brain areas\\nST\")\n",
    "plt.ylabel(\"AUROC\")\n",
    "plt.savefig(\"051220_7.png\", bbox_inches='tight')\n",
    "plt.show()"
   ]
  },
  {
   "cell_type": "code",
   "execution_count": 87,
   "metadata": {},
   "outputs": [
    {
     "data": {
      "image/png": "[encoded data removed]",
      "text/plain": [
       "<Figure size 432x432 with 3 Axes>"
      ]
     },
     "metadata": {},
     "output_type": "display_data"
    }
   ],
   "source": [
    "sns.jointplot(STminsize_upper, ST_test_avg_upper, kind='hex') \\\n",
    "   .set_axis_labels(\"minimum size of the two brain areas\\nST ISH\", \"AUROC\")\n",
    "plt.savefig(\"051220_8.pdf\", bbox_inches='tight')\n",
    "plt.show()"
   ]
  },
  {
   "cell_type": "markdown",
   "metadata": {},
   "source": [
    "Performance as a function of maximum size"
   ]
  },
  {
   "cell_type": "code",
   "execution_count": 88,
   "metadata": {},
   "outputs": [
    {
     "data": {
      "image/png": "[encoded data removed]",
      "text/plain": [
       "<Figure size 432x288 with 1 Axes>"
      ]
     },
     "metadata": {},
     "output_type": "display_data"
    }
   ],
   "source": [
    "plt.scatter(ABAmaxsize_upper, ABA_test_avg_upper)\n",
    "plt.xlabel(\"maximum size of the two brain areas\\nABA ISH\")\n",
    "plt.ylabel(\"AUROC\")\n",
    "plt.savefig(\"051220_9.png\", bbox_inches='tight')\n",
    "plt.show()"
   ]
  },
  {
   "cell_type": "code",
   "execution_count": 89,
   "metadata": {},
   "outputs": [
    {
     "data": {
      "image/png": "[encoded data removed]",
      "text/plain": [
       "<Figure size 432x432 with 3 Axes>"
      ]
     },
     "metadata": {},
     "output_type": "display_data"
    }
   ],
   "source": [
    "sns.jointplot(ABAmaxsize_upper, ABA_test_avg_upper, kind='hex') \\\n",
    "   .set_axis_labels(\"maximum size of the two brain areas\\nABA ISH\", \"AUROC\")\n",
    "plt.savefig(\"051220_10.pdf\", bbox_inches='tight')\n",
    "plt.show()"
   ]
  },
  {
   "cell_type": "code",
   "execution_count": 90,
   "metadata": {},
   "outputs": [
    {
     "data": {
      "image/png": "[encoded data removed]",
      "text/plain": [
       "<Figure size 432x288 with 1 Axes>"
      ]
     },
     "metadata": {},
     "output_type": "display_data"
    }
   ],
   "source": [
    "plt.scatter(STmaxsize_upper, ST_test_avg_upper)\n",
    "plt.xlabel(\"maximum size of the two brain areas\\nST\")\n",
    "plt.ylabel(\"AUROC\")\n",
    "plt.savefig(\"051220_11.png\", bbox_inches='tight')\n",
    "plt.show()"
   ]
  },
  {
   "cell_type": "code",
   "execution_count": 91,
   "metadata": {},
   "outputs": [
    {
     "data": {
      "image/png": "[encoded data removed]",
      "text/plain": [
       "<Figure size 432x432 with 3 Axes>"
      ]
     },
     "metadata": {},
     "output_type": "display_data"
    }
   ],
   "source": [
    "sns.jointplot(STmaxsize_upper, ST_test_avg_upper, kind='hex') \\\n",
    "   .set_axis_labels(\"maximum size of the two brain areas\\nST ISH\", \"AUROC\")\n",
    "plt.savefig(\"051220_12.pdf\", bbox_inches='tight')\n",
    "plt.show()"
   ]
  },
  {
   "cell_type": "markdown",
   "metadata": {},
   "source": [
    "Conclusion \\\n",
    "Looking at minimum or maximum size, there seems to be no correlation between size and performance in general when looking at minimum size of the two areas. The ABA ISH has all performance very near AUROC=1. The ST does seem to have a slight pattern where very small brain areas have a range of performance, but then there are very high performances for all other sizes."
   ]
  },
  {
   "cell_type": "markdown",
   "metadata": {},
   "source": [
    "__Does performance rise as you downsample in a particular brain region?__"
   ]
  },
  {
   "cell_type": "markdown",
   "metadata": {},
   "source": [
    "Start by looking at caudoputamen"
   ]
  },
  {
   "cell_type": "code",
   "execution_count": null,
   "metadata": {},
   "outputs": [],
   "source": []
  },
  {
   "cell_type": "markdown",
   "metadata": {},
   "source": [
    "__Is the CP more transcriptionally diverse in general? (average correlation of voxel profiles)__"
   ]
  },
  {
   "cell_type": "code",
   "execution_count": 92,
   "metadata": {},
   "outputs": [
    {
     "data": {
      "text/html": [
       "<div>\n",
       "<style scoped>\n",
       "    .dataframe tbody tr th:only-of-type {\n",
       "        vertical-align: middle;\n",
       "    }\n",
       "\n",
       "    .dataframe tbody tr th {\n",
       "        vertical-align: top;\n",
       "    }\n",
       "\n",
       "    .dataframe thead th {\n",
       "        text-align: right;\n",
       "    }\n",
       "</style>\n",
       "<table border=\"1\" class=\"dataframe\">\n",
       "  <thead>\n",
       "    <tr style=\"text-align: right;\">\n",
       "      <th></th>\n",
       "      <th>id</th>\n",
       "      <th>acronym</th>\n",
       "      <th>name</th>\n",
       "      <th>parent</th>\n",
       "      <th>allencolor</th>\n",
       "    </tr>\n",
       "  </thead>\n",
       "  <tbody>\n",
       "    <tr>\n",
       "      <th>1109</th>\n",
       "      <td>672</td>\n",
       "      <td>CP</td>\n",
       "      <td>Caudoputamen</td>\n",
       "      <td>485.0</td>\n",
       "      <td>#98D6F9</td>\n",
       "    </tr>\n",
       "  </tbody>\n",
       "</table>\n",
       "</div>"
      ],
      "text/plain": [
       "       id acronym          name  parent allencolor\n",
       "1109  672      CP  Caudoputamen   485.0    #98D6F9"
      ]
     },
     "execution_count": 92,
     "metadata": {},
     "output_type": "execute_result"
    }
   ],
   "source": [
    "ontology.loc[ontology.acronym==\"CP\",:]"
   ]
  },
  {
   "cell_type": "code",
   "execution_count": 93,
   "metadata": {},
   "outputs": [],
   "source": [
    "#get indices of the samples that map to CP\n",
    "ABACPindex = ABApropont.loc[ABApropont['672']==1,'672'].index\n",
    "STCPindex = STpropont.loc[STpropont['672']==1,'672'].index"
   ]
  },
  {
   "cell_type": "code",
   "execution_count": 94,
   "metadata": {},
   "outputs": [],
   "source": [
    "#get the actual samples for all genes\n",
    "CPvox = ABAvox.loc[ABACPindex, :]\n",
    "CPspots = STspots.loc[STCPindex, :]"
   ]
  },
  {
   "cell_type": "code",
   "execution_count": 95,
   "metadata": {},
   "outputs": [],
   "source": [
    "ABAcorr = np.corrcoef(CPvox, rowvar=1)"
   ]
  },
  {
   "cell_type": "code",
   "execution_count": 96,
   "metadata": {},
   "outputs": [],
   "source": [
    "STcorr = np.corrcoef(CPspots, rowvar=1)"
   ]
  },
  {
   "cell_type": "code",
   "execution_count": 97,
   "metadata": {},
   "outputs": [
    {
     "name": "stdout",
     "output_type": "stream",
     "text": [
      "0.6652694737905721\n",
      "0.6652694737905721\n"
     ]
    }
   ],
   "source": [
    "#mean upper triangular \n",
    "CPABAmeancorr = np.mean(ABAcorr[np.triu_indices_from(ABAcorr)])\n",
    "CPABAabsmeancorr = np.mean(np.abs(ABAcorr[np.triu_indices_from(ABAcorr)]))\n",
    "print(CPABAmeancorr)\n",
    "print(CPABAabsmeancorr)"
   ]
  },
  {
   "cell_type": "code",
   "execution_count": 98,
   "metadata": {},
   "outputs": [
    {
     "name": "stdout",
     "output_type": "stream",
     "text": [
      "0.7273221133508818\n",
      "0.7273221133508818\n"
     ]
    }
   ],
   "source": [
    "CPSTmeancorr = np.mean(STcorr[np.triu_indices_from(STcorr)])\n",
    "CPSTabsmeancorr = np.mean(np.abs(STcorr[np.triu_indices_from(STcorr)]))\n",
    "print(CPSTmeancorr)\n",
    "print(CPSTabsmeancorr)"
   ]
  },
  {
   "cell_type": "markdown",
   "metadata": {},
   "source": [
    "Looked at both the raw mean of correlation coefficients and the mean of the absolute value and they are identical in both datasets, so it seems that all correlations were positive. \\\n",
    "\\\n",
    "Need to compare to the average correlation of voxel profiles for other brain areas- see following section."
   ]
  },
  {
   "cell_type": "markdown",
   "metadata": {},
   "source": [
    "# Probing difference in performance b/t ST and ABA"
   ]
  },
  {
   "cell_type": "markdown",
   "metadata": {},
   "source": [
    "__Distribution of average correlation expresison profiles within brain regions (i.e. is every brain region made up of voxels that look the same?)__ \\\n",
    "These took a bit of time to run, so they were quickly scripted and run from 9_STcorr.py and 11_ABAcorr.py. \\\n",
    "Outfiles: STareacorr_0504.csv and ABAareacorr_0504.csv"
   ]
  },
  {
   "cell_type": "code",
   "execution_count": 366,
   "metadata": {},
   "outputs": [],
   "source": [
    "#infiles\n",
    "#ABACORR_IN = \"ABAareacorr_0504_2.csv\"\n",
    "#STCORR_IN = \"STareacorr_0504_2.csv\""
   ]
  },
  {
   "cell_type": "code",
   "execution_count": 367,
   "metadata": {},
   "outputs": [],
   "source": [
    "#ABAcorr = pd.read_csv(ABACORR_IN)\n",
    "#STcorr = pd.read_csv(STCORR_IN)"
   ]
  },
  {
   "cell_type": "code",
   "execution_count": 128,
   "metadata": {},
   "outputs": [],
   "source": [
    "def getareacorr(data, propont):\n",
    "    #initialize zeros dataframe to store entries\n",
    "    allbyall_corr = pd.DataFrame(index=list(propont), columns=[\"mean\", \"absmean\"])\n",
    "    \n",
    "    areas = list(propont)\n",
    "    #for each column, brain area\n",
    "    for i in range(propont.shape[1]):\n",
    "        area1 = areas[i]\n",
    "\n",
    "        #subset train and test sets for only samples in curr area\n",
    "        Xcurr = data.loc[propont[area1] != 0, :]\n",
    "            \n",
    "        #calculate within brain area correlations\n",
    "        corrmat = np.corrcoef(Xcurr, rowvar=1) #corr b/t samples\n",
    "        #corrmat = np.cov(Xcurr, rowvar=0) #cols are features, rows are samples\n",
    "        absmean = np.mean(np.abs(corrmat[np.triu_indices_from(corrmat)]))\n",
    "        mean = np.mean(corrmat[np.triu_indices_from(corrmat)])\n",
    "            \n",
    "        allbyall_corr.iloc[i,0] = mean\n",
    "        allbyall_corr.iloc[i,1] = absmean\n",
    "            \n",
    "        #if i == 1:\n",
    "        #break\n",
    "     \n",
    "    #return temp\n",
    "    return allbyall_corr"
   ]
  },
  {
   "cell_type": "code",
   "execution_count": 129,
   "metadata": {},
   "outputs": [],
   "source": [
    "STcorr = getareacorr(leafSTspots, leafSTpropont)"
   ]
  },
  {
   "cell_type": "code",
   "execution_count": 130,
   "metadata": {},
   "outputs": [],
   "source": [
    "ABAcorr = getareacorr(leafABAvox, leafABApropont)"
   ]
  },
  {
   "cell_type": "code",
   "execution_count": 131,
   "metadata": {},
   "outputs": [
    {
     "data": {
      "image/png": "[encoded data removed]",
      "text/plain": [
       "<Figure size 432x288 with 1 Axes>"
      ]
     },
     "metadata": {},
     "output_type": "display_data"
    }
   ],
   "source": [
    "plt.hist(ABAcorr['mean'])\n",
    "plt.xlabel(\"mean correlation within brain areas\\nABA\")\n",
    "plt.ylabel(\"counts\")\n",
    "#caudoputamen\n",
    "plt.vlines(x=CPABAmeancorr, ymin=0, ymax=250, linestyles='--', colors='orange')\n",
    "plt.text(0.6, 250, \"CP\", fontsize=16)\n",
    "#mean\n",
    "plt.vlines(x=ABAcorr['mean'].mean(), ymin=0, ymax=250, linestyles='--')\n",
    "plt.text(0.7, 250, \"$\\mu = %.3f$\" %ABAcorr['mean'].mean(), fontsize=16)\n",
    "\n",
    "plt.savefig(\"051220_13.pdf\", bbox_inches='tight')\n",
    "plt.show()"
   ]
  },
  {
   "cell_type": "code",
   "execution_count": 132,
   "metadata": {},
   "outputs": [
    {
     "data": {
      "image/png": "[encoded data removed]",
      "text/plain": [
       "<Figure size 432x288 with 1 Axes>"
      ]
     },
     "metadata": {},
     "output_type": "display_data"
    }
   ],
   "source": [
    "plt.hist(ABAcorr['absmean'])\n",
    "plt.xlabel(\"mean absolute value of correlation within brain areas\\nABA\")\n",
    "plt.ylabel(\"counts\")\n",
    "#plt.savefig(\"050420_7.pdf\", bbox_inches='tight')\n",
    "plt.show()"
   ]
  },
  {
   "cell_type": "code",
   "execution_count": 133,
   "metadata": {},
   "outputs": [
    {
     "data": {
      "image/png": "[encoded data removed]",
      "text/plain": [
       "<Figure size 432x288 with 1 Axes>"
      ]
     },
     "metadata": {},
     "output_type": "display_data"
    }
   ],
   "source": [
    "plt.hist(STcorr['mean'])\n",
    "plt.xlabel(\"mean correlation within brain areas\\nST\")\n",
    "plt.ylabel(\"counts\")\n",
    "#caudoputamen\n",
    "plt.vlines(x=CPSTmeancorr, ymin=0, ymax=115, linestyles='--', colors='orange')\n",
    "plt.text(CPSTmeancorr+0.0001, 115, \"CP\", fontsize=16)\n",
    "#mean\n",
    "plt.vlines(x=STcorr['mean'].mean(), ymin=0, ymax=115, linestyles='--')\n",
    "plt.text(STcorr['mean'].mean()+0.001, 115, \"$\\mu = %.3f$\" %STcorr['mean'].mean(), fontsize=16)\n",
    "\n",
    "plt.savefig(\"051220_14.pdf\", bbox_inches='tight')\n",
    "plt.show()"
   ]
  },
  {
   "cell_type": "code",
   "execution_count": 134,
   "metadata": {},
   "outputs": [
    {
     "data": {
      "image/png": "[encoded data removed]",
      "text/plain": [
       "<Figure size 432x288 with 1 Axes>"
      ]
     },
     "metadata": {},
     "output_type": "display_data"
    }
   ],
   "source": [
    "plt.hist(STcorr['absmean'])\n",
    "plt.xlabel(\"mean absolute value of correlation within brain areas\\nST\")\n",
    "plt.ylabel(\"counts\")\n",
    "#plt.savefig(\"050420_10.pdf\", bbox_inches='tight')\n",
    "plt.show()"
   ]
  },
  {
   "cell_type": "code",
   "execution_count": 135,
   "metadata": {},
   "outputs": [
    {
     "name": "stderr",
     "output_type": "stream",
     "text": [
      "/home/slu/miniconda3/lib/python3.7/site-packages/statsmodels/nonparametric/kde.py:447: RuntimeWarning: invalid value encountered in greater\n",
      "  X = X[np.logical_and(X > clip[0], X < clip[1])] # won't work for two columns.\n",
      "/home/slu/miniconda3/lib/python3.7/site-packages/statsmodels/nonparametric/kde.py:447: RuntimeWarning: invalid value encountered in less\n",
      "  X = X[np.logical_and(X > clip[0], X < clip[1])] # won't work for two columns.\n"
     ]
    },
    {
     "data": {
      "image/png": "[encoded data removed]",
      "text/plain": [
       "<Figure size 432x288 with 1 Axes>"
      ]
     },
     "metadata": {},
     "output_type": "display_data"
    }
   ],
   "source": [
    "#combine ST and ABA means w/o absolute value\n",
    "sns.kdeplot(ABAcorr['mean'],label='ABA ISH')\n",
    "sns.kdeplot(STcorr['mean'], label='ST')\n",
    "plt.xlabel(\"mean correlation within brain areas\")\n",
    "plt.ylabel(\"density\")\n",
    "\n",
    "#caudoputamen\n",
    "plt.vlines(x=CPABAmeancorr, ymin=0, ymax=8, linestyles='--',colors='C0')\n",
    "#plt.text(CPABAmeancorr+0.0001, 8, \"CP\", fontsize=16)\n",
    "plt.vlines(x=CPSTmeancorr, ymin=0, ymax=8, linestyles='--',colors='C1')\n",
    "#plt.text(CPSTmeancorr+0.0001, 8, \"CP\", fontsize=16)\n",
    "\n",
    "plt.savefig(\"051220_15.pdf\",bbox_inches='tight')\n",
    "plt.show()"
   ]
  },
  {
   "cell_type": "markdown",
   "metadata": {},
   "source": [
    "This doesn't really make sense that the sample correlation is higher in ST, but the performance is higher in ABA. However it is at least a bit convincing that the CP has a lower sample correlation than the mean in both datasets and is the worst performing area in ABA. Although I expected it to be on the much lower in ABA ISH at least.\\\n",
    "\\\n",
    "Follow-up Q's:\n",
    " - is it actually appropriate to average correlation coefficients? do i have to do fisher's z transform first (arctanh)?\n",
    " - spearman's rho?"
   ]
  },
  {
   "cell_type": "markdown",
   "metadata": {},
   "source": [
    "__Gene variance within a brain region (distribution across all brain regions), average for all genes__"
   ]
  },
  {
   "cell_type": "code",
   "execution_count": 14,
   "metadata": {},
   "outputs": [],
   "source": [
    "def getgenevar(data, propont):\n",
    "    #initialize zeros dataframe to store entries\n",
    "    allbyall_var = pd.Series(index=list(propont))\n",
    "    \n",
    "    #try z-scoring whole dataset\n",
    "    #data = zscore(data)\n",
    "    \n",
    "    areas = list(propont)\n",
    "    #for each column, brain area\n",
    "    for i in range(propont.shape[1]):\n",
    "        #print(\"col %d\" %i)\n",
    "        area1 = areas[i]\n",
    "\n",
    "        #subset train and test sets for only samples in curr area\n",
    "        Xcurr = data.loc[propont[area1] != 0, :]\n",
    "        #try ranking in sample space\n",
    "        #Xcurr = Xcurr.T.apply(lambda x: sp.stats.mstats.rankdata(x),axis=0)\n",
    "        Xcurr = zscore(Xcurr.T) #try z-scoring on samples\n",
    "            \n",
    "        #calculate within brain area gene variance and average for all genes\n",
    "        meangenevar = np.var(Xcurr, axis=1).mean()\n",
    "            \n",
    "        allbyall_var.iloc[i] = meangenevar\n",
    "         \n",
    "    return allbyall_var"
   ]
  },
  {
   "cell_type": "code",
   "execution_count": 15,
   "metadata": {},
   "outputs": [],
   "source": [
    "ABAgenevar = getgenevar(leafABAvox, leafABApropont)"
   ]
  },
  {
   "cell_type": "code",
   "execution_count": 16,
   "metadata": {},
   "outputs": [],
   "source": [
    "STgenevar = getgenevar(leafSTspots, leafSTpropont)"
   ]
  },
  {
   "cell_type": "code",
   "execution_count": 20,
   "metadata": {},
   "outputs": [
    {
     "name": "stdout",
     "output_type": "stream",
     "text": [
      "0.31381490674137413\n",
      "0.22612127041550717\n"
     ]
    }
   ],
   "source": [
    "print(np.mean(ABAgenevar))\n",
    "print(np.mean(STgenevar))"
   ]
  },
  {
   "cell_type": "code",
   "execution_count": 17,
   "metadata": {},
   "outputs": [
    {
     "data": {
      "image/png": "[encoded data removed]",
      "text/plain": [
       "<Figure size 432x288 with 1 Axes>"
      ]
     },
     "metadata": {},
     "output_type": "display_data"
    }
   ],
   "source": [
    "plt.hist(ABAgenevar)\n",
    "plt.xlabel(\"mean gene variance per brain areas\\nABA\")\n",
    "plt.ylabel(\"counts\")\n",
    "#plt.savefig(\"050420_13.pdf\", bbox_inches='tight')\n",
    "plt.show()"
   ]
  },
  {
   "cell_type": "code",
   "execution_count": 18,
   "metadata": {},
   "outputs": [
    {
     "data": {
      "image/png": "[encoded data removed]",
      "text/plain": [
       "<Figure size 432x288 with 1 Axes>"
      ]
     },
     "metadata": {},
     "output_type": "display_data"
    }
   ],
   "source": [
    "plt.hist(STgenevar)\n",
    "plt.xlabel(\"mean gene variance per brain areas\\nST\")\n",
    "plt.ylabel(\"counts\")\n",
    "#plt.savefig(\"050420_14.pdf\", bbox_inches='tight')\n",
    "plt.show()"
   ]
  },
  {
   "cell_type": "code",
   "execution_count": 19,
   "metadata": {},
   "outputs": [
    {
     "data": {
      "image/png": "[encoded data removed]",
      "text/plain": [
       "<Figure size 432x288 with 1 Axes>"
      ]
     },
     "metadata": {},
     "output_type": "display_data"
    }
   ],
   "source": [
    "sns.distplot(ABAgenevar,label=\"ABA ISH\")\n",
    "sns.distplot(STgenevar,label=\"ST\")\n",
    "plt.xlabel(\"mean gene variance per brain area\")\n",
    "plt.ylabel(\"density\")\n",
    "#plt.ylim([-0.1,0.05])\n",
    "plt.legend()\n",
    "#plt.savefig(\"051220_17.pdf\", bbox_inches='tight')\n",
    "plt.show()"
   ]
  },
  {
   "cell_type": "markdown",
   "metadata": {},
   "source": [
    "ABA ISH had higher gene variance within a brain region than the ST. Again... this is the opposite of what I expected. Since the ABA ISH performs higher than the ST and the ABA ISH has a lower dimensionality, I expected the gene variance within each brain area to be lower in ABA than in ST. "
   ]
  },
  {
   "cell_type": "markdown",
   "metadata": {},
   "source": [
    "__gene variance for whole dataset__"
   ]
  },
  {
   "cell_type": "code",
   "execution_count": 35,
   "metadata": {},
   "outputs": [],
   "source": [
    "#try z-scoring in sample space first (genes don't work to calculate variance duh)\n",
    "zleafABAvox = zscore(leafABAvox.T)\n",
    "zleafSTspots = zscore(leafSTspots.T)"
   ]
  },
  {
   "cell_type": "code",
   "execution_count": 36,
   "metadata": {},
   "outputs": [],
   "source": [
    "ABAvar = np.var(zleafABAvox, axis=0)\n",
    "STvar = np.var(zleafSTspots, axis=0)"
   ]
  },
  {
   "cell_type": "code",
   "execution_count": 51,
   "metadata": {},
   "outputs": [
    {
     "data": {
      "image/png": "[encoded data removed]",
      "text/plain": [
       "<Figure size 432x288 with 1 Axes>"
      ]
     },
     "metadata": {},
     "output_type": "display_data"
    }
   ],
   "source": [
    "sns.distplot(ABAvar,label=\"ABA ISH\")\n",
    "#sns.distplot(STvar,label=\"ST\")\n",
    "plt.xlabel(\"gene variance\")\n",
    "plt.ylabel(\"density\")\n",
    "#plt.ylim([-0.0002, 0.012])\n",
    "plt.legend()\n",
    "plt.savefig(\"080520_9.pdf\", bbox_inches='tight')\n",
    "plt.show()"
   ]
  },
  {
   "cell_type": "markdown",
   "metadata": {},
   "source": [
    "__pairwise gene-gene correlations for whole dataset__"
   ]
  },
  {
   "cell_type": "markdown",
   "metadata": {},
   "source": [
    "Pearson's r"
   ]
  },
  {
   "cell_type": "code",
   "execution_count": 21,
   "metadata": {},
   "outputs": [],
   "source": [
    "ABAcorrmatrix = np.corrcoef(leafABAvox, rowvar=False) #cols are genes"
   ]
  },
  {
   "cell_type": "code",
   "execution_count": 22,
   "metadata": {},
   "outputs": [],
   "source": [
    "STcorrmatrix = np.corrcoef(leafSTspots, rowvar=False)"
   ]
  },
  {
   "cell_type": "code",
   "execution_count": null,
   "metadata": {},
   "outputs": [],
   "source": [
    "ABAcorrmatrix_upper = ABAcorrmatrix[np.triu_indices_from(ABAcorrmatrix, k=1)]\n",
    "#STcorrmatrix_upper = STcorrmatrix[np.triu_indices_from(STcorrmatrix, k=1)]"
   ]
  },
  {
   "cell_type": "code",
   "execution_count": 202,
   "metadata": {},
   "outputs": [
    {
     "data": {
      "image/png": "[encoded data removed]",
      "text/plain": [
       "<Figure size 432x288 with 1 Axes>"
      ]
     },
     "metadata": {},
     "output_type": "display_data"
    }
   ],
   "source": [
    "sns.distplot(ABAcorrmatrix_upper)\n",
    "plt.xlabel(\"gene-gene pearson's r\\nABA ISH\")\n",
    "plt.ylabel(\"density\")\n",
    "#plt.savefig(\"050820_1.pdf\", bbox_inches='tight')\n",
    "plt.show()"
   ]
  },
  {
   "cell_type": "code",
   "execution_count": 70,
   "metadata": {},
   "outputs": [
    {
     "data": {
      "image/png": "[encoded data removed]",
      "text/plain": [
       "<Figure size 432x288 with 1 Axes>"
      ]
     },
     "metadata": {},
     "output_type": "display_data"
    }
   ],
   "source": [
    "STcorrmatrix_upper = STcorrmatrix_upper[np.isnan(STcorrmatrix_upper) == False]\n",
    "sns.distplot(STcorrmatrix_upper)\n",
    "plt.xlabel(\"gene-gene pearson's r\\nST\")\n",
    "plt.ylabel(\"density\")\n",
    "#plt.savefig(\"051220_1.pdf\", bbox_inches='tight')\n",
    "plt.show()"
   ]
  },
  {
   "cell_type": "code",
   "execution_count": null,
   "metadata": {},
   "outputs": [],
   "source": [
    "sns.distplot(ABAcorrmatrix_upper,label=\"ABA ISH\")\n",
    "sns.distplot(STcorrmatrix_upper,label=\"ST\")\n",
    "plt.xlabel(\"gene-gene correlation\\nPearson's r\")\n",
    "plt.ylabel(\"density\")\n",
    "#plt.ylim([-0.1,0.05])\n",
    "plt.legend()\n",
    "plt.savefig(\"051220_4.pdf\", bbox_inches='tight')\n",
    "plt.show()"
   ]
  },
  {
   "cell_type": "markdown",
   "metadata": {},
   "source": [
    "Spearman's rho"
   ]
  },
  {
   "cell_type": "code",
   "execution_count": 23,
   "metadata": {},
   "outputs": [],
   "source": [
    "rankedleafABAvox = leafABAvox.apply(lambda col: sp.stats.mstats.rankdata(col), axis=0)\n",
    "ABAspearman = np.corrcoef(rankedleafABAvox, rowvar=False) #cols are genes"
   ]
  },
  {
   "cell_type": "code",
   "execution_count": 24,
   "metadata": {},
   "outputs": [],
   "source": [
    "ABAspearman_upper = ABAspearman[np.triu_indices_from(ABAspearman, k=1)]"
   ]
  },
  {
   "cell_type": "code",
   "execution_count": 25,
   "metadata": {},
   "outputs": [
    {
     "data": {
      "text/plain": [
       "0.5249555366038159"
      ]
     },
     "execution_count": 25,
     "metadata": {},
     "output_type": "execute_result"
    }
   ],
   "source": [
    "np.mean(ABAspearman_upper)"
   ]
  },
  {
   "cell_type": "code",
   "execution_count": 26,
   "metadata": {},
   "outputs": [
    {
     "data": {
      "image/png": "[encoded data removed]",
      "text/plain": [
       "<Figure size 432x288 with 1 Axes>"
      ]
     },
     "metadata": {},
     "output_type": "display_data"
    }
   ],
   "source": [
    "sns.distplot(ABAspearman_upper)\n",
    "plt.xlabel(\"gene-gene Spearman's rho\\nABA ISH\")\n",
    "plt.ylabel(\"density\")\n",
    "#plt.savefig(\"050820_2.pdf\", bbox_inches='tight')\n",
    "plt.show()"
   ]
  },
  {
   "cell_type": "code",
   "execution_count": 27,
   "metadata": {},
   "outputs": [],
   "source": [
    "rankedleafSTspots = leafSTspots.apply(lambda col: sp.stats.mstats.rankdata(col), axis=0)\n",
    "STspearman = np.corrcoef(rankedleafSTspots, rowvar=False)"
   ]
  },
  {
   "cell_type": "code",
   "execution_count": 28,
   "metadata": {},
   "outputs": [],
   "source": [
    "STspearman_upper = STspearman[np.triu_indices_from(STspearman, k=1)]"
   ]
  },
  {
   "cell_type": "code",
   "execution_count": 29,
   "metadata": {},
   "outputs": [
    {
     "data": {
      "text/plain": [
       "0.04919581105860777"
      ]
     },
     "execution_count": 29,
     "metadata": {},
     "output_type": "execute_result"
    }
   ],
   "source": [
    "np.mean(STspearman_upper)"
   ]
  },
  {
   "cell_type": "code",
   "execution_count": 71,
   "metadata": {},
   "outputs": [
    {
     "data": {
      "image/png": "[encoded data removed]",
      "text/plain": [
       "<Figure size 432x288 with 1 Axes>"
      ]
     },
     "metadata": {},
     "output_type": "display_data"
    }
   ],
   "source": [
    "sns.distplot(STspearman_upper)\n",
    "plt.xlabel(\"gene-gene Spearman's rho\\nST\")\n",
    "plt.ylabel(\"density\")\n",
    "plt.savefig(\"051220_2.pdf\", bbox_inches='tight')\n",
    "plt.show()"
   ]
  },
  {
   "cell_type": "code",
   "execution_count": 30,
   "metadata": {},
   "outputs": [
    {
     "data": {
      "image/png": "[encoded data removed]",
      "text/plain": [
       "<Figure size 432x288 with 1 Axes>"
      ]
     },
     "metadata": {},
     "output_type": "display_data"
    }
   ],
   "source": [
    "sns.distplot(ABAspearman_upper,label=\"ABA ISH\")\n",
    "sns.distplot(STspearman_upper,label=\"ST\")\n",
    "plt.xlabel(\"gene-gene correlation\\nSpearman's rho\")\n",
    "plt.ylabel(\"density\")\n",
    "#plt.ylim([-0.1,0.05])\n",
    "plt.legend()\n",
    "#plt.savefig(\"051220_3.pdf\", bbox_inches='tight')\n",
    "plt.show()"
   ]
  },
  {
   "cell_type": "markdown",
   "metadata": {},
   "source": [
    "__Average difference between a pair of brain regions: is there more DE using ABA data? but is that just because variance is lower rather than higher fold changes? (or effect sizes). Volcano plot like implicaiton of overfitting__"
   ]
  },
  {
   "cell_type": "markdown",
   "metadata": {},
   "source": [
    "NOTE: this is hard to do, becuase the DE takes a long time to look at (limiting factor of CFS), but since I have to re-run that, I'll try to record this info when I get there as well."
   ]
  },
  {
   "cell_type": "code",
   "execution_count": null,
   "metadata": {},
   "outputs": [],
   "source": []
  }
 ],
 "metadata": {
  "kernelspec": {
   "display_name": "Python 3",
   "language": "python",
   "name": "python3"
  },
  "language_info": {
   "codemirror_mode": {
    "name": "ipython",
    "version": 3
   },
   "file_extension": ".py",
   "mimetype": "text/x-python",
   "name": "python",
   "nbconvert_exporter": "python",
   "pygments_lexer": "ipython3",
   "version": "3.7.3"
  }
 },
 "nbformat": 4,
 "nbformat_minor": 4
}
