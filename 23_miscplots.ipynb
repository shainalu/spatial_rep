{
 "cells": [
  {
   "cell_type": "code",
   "execution_count": 1,
   "metadata": {},
   "outputs": [
    {
     "data": {
      "text/plain": [
       "'\\nplace to code up additional summary plots needed for paper\\n\\nShaina Lu\\nJune 2020\\nZador & Gillis Labs\\n'"
      ]
     },
     "execution_count": 1,
     "metadata": {},
     "output_type": "execute_result"
    }
   ],
   "source": [
    "\"\"\"\n",
    "place to code up additional summary plots needed for paper\n",
    "\n",
    "Shaina Lu\n",
    "June 2020\n",
    "Zador & Gillis Labs\n",
    "\"\"\""
   ]
  },
  {
   "cell_type": "code",
   "execution_count": 2,
   "metadata": {},
   "outputs": [],
   "source": [
    "import matplotlib.pyplot as plt\n",
    "import seaborn as sns\n",
    "import pandas as pd\n",
    "import numpy as np\n",
    "import scipy as sp"
   ]
  },
  {
   "cell_type": "code",
   "execution_count": 3,
   "metadata": {},
   "outputs": [],
   "source": [
    "def set_style():\n",
    "    #function for matplotlib formatting\n",
    "    plt.style.use(['seaborn-white','seaborn-notebook'])\n",
    "    plt.rcParams['figure.figsize'] = [6,4]\n",
    "    plt.rcParams['axes.spines.top'] = False       #remove top line\n",
    "    plt.rcParams['axes.spines.right'] = False     #remove right line\n",
    "    plt.rcParams['axes.linewidth'] = 2.0          #set weight of axes\n",
    "    plt.rcParams['axes.titlesize'] = 20           #set font size of title\n",
    "    plt.rcParams['axes.labelsize'] = 18           #set font size of x,y labels\n",
    "    plt.rcParams['axes.labelpad'] = 14            #space between labels and axes\n",
    "    plt.rcParams['xtick.labelsize'] = 14          #set x label size\n",
    "    plt.rcParams['ytick.labelsize'] = 14          #set y label size\n",
    "    plt.rcParams['legend.fontsize'] = 16          #set legend font size\n",
    "    \n",
    "set_style()"
   ]
  },
  {
   "cell_type": "markdown",
   "metadata": {},
   "source": [
    "# within all by all summary figure (1c)"
   ]
  },
  {
   "cell_type": "code",
   "execution_count": 4,
   "metadata": {},
   "outputs": [],
   "source": [
    "withinmeans = pd.read_csv(\"allbyall_means.csv\")"
   ]
  },
  {
   "cell_type": "code",
   "execution_count": 5,
   "metadata": {},
   "outputs": [
    {
     "data": {
      "text/html": [
       "<div>\n",
       "<style scoped>\n",
       "    .dataframe tbody tr th:only-of-type {\n",
       "        vertical-align: middle;\n",
       "    }\n",
       "\n",
       "    .dataframe tbody tr th {\n",
       "        vertical-align: top;\n",
       "    }\n",
       "\n",
       "    .dataframe thead th {\n",
       "        text-align: right;\n",
       "    }\n",
       "</style>\n",
       "<table border=\"1\" class=\"dataframe\">\n",
       "  <thead>\n",
       "    <tr style=\"text-align: right;\">\n",
       "      <th></th>\n",
       "      <th>alpha</th>\n",
       "      <th>variable</th>\n",
       "      <th>value</th>\n",
       "    </tr>\n",
       "  </thead>\n",
       "  <tbody>\n",
       "    <tr>\n",
       "      <th>0</th>\n",
       "      <td>0.10</td>\n",
       "      <td>ABAtrain</td>\n",
       "      <td>0.999</td>\n",
       "    </tr>\n",
       "    <tr>\n",
       "      <th>1</th>\n",
       "      <td>0.05</td>\n",
       "      <td>ABAtrain</td>\n",
       "      <td>1.000</td>\n",
       "    </tr>\n",
       "    <tr>\n",
       "      <th>2</th>\n",
       "      <td>0.01</td>\n",
       "      <td>ABAtrain</td>\n",
       "      <td>1.000</td>\n",
       "    </tr>\n",
       "    <tr>\n",
       "      <th>3</th>\n",
       "      <td>0.00</td>\n",
       "      <td>ABAtrain</td>\n",
       "      <td>1.000</td>\n",
       "    </tr>\n",
       "    <tr>\n",
       "      <th>4</th>\n",
       "      <td>0.10</td>\n",
       "      <td>ABAtest</td>\n",
       "      <td>0.996</td>\n",
       "    </tr>\n",
       "    <tr>\n",
       "      <th>5</th>\n",
       "      <td>0.05</td>\n",
       "      <td>ABAtest</td>\n",
       "      <td>0.998</td>\n",
       "    </tr>\n",
       "    <tr>\n",
       "      <th>6</th>\n",
       "      <td>0.01</td>\n",
       "      <td>ABAtest</td>\n",
       "      <td>0.998</td>\n",
       "    </tr>\n",
       "    <tr>\n",
       "      <th>7</th>\n",
       "      <td>0.00</td>\n",
       "      <td>ABAtest</td>\n",
       "      <td>0.999</td>\n",
       "    </tr>\n",
       "    <tr>\n",
       "      <th>8</th>\n",
       "      <td>0.10</td>\n",
       "      <td>STtrain</td>\n",
       "      <td>0.993</td>\n",
       "    </tr>\n",
       "    <tr>\n",
       "      <th>9</th>\n",
       "      <td>0.05</td>\n",
       "      <td>STtrain</td>\n",
       "      <td>0.999</td>\n",
       "    </tr>\n",
       "    <tr>\n",
       "      <th>10</th>\n",
       "      <td>0.01</td>\n",
       "      <td>STtrain</td>\n",
       "      <td>1.000</td>\n",
       "    </tr>\n",
       "    <tr>\n",
       "      <th>11</th>\n",
       "      <td>0.00</td>\n",
       "      <td>STtrain</td>\n",
       "      <td>1.000</td>\n",
       "    </tr>\n",
       "    <tr>\n",
       "      <th>12</th>\n",
       "      <td>0.10</td>\n",
       "      <td>STtest</td>\n",
       "      <td>0.883</td>\n",
       "    </tr>\n",
       "    <tr>\n",
       "      <th>13</th>\n",
       "      <td>0.05</td>\n",
       "      <td>STtest</td>\n",
       "      <td>0.885</td>\n",
       "    </tr>\n",
       "    <tr>\n",
       "      <th>14</th>\n",
       "      <td>0.01</td>\n",
       "      <td>STtest</td>\n",
       "      <td>0.878</td>\n",
       "    </tr>\n",
       "    <tr>\n",
       "      <th>15</th>\n",
       "      <td>0.00</td>\n",
       "      <td>STtest</td>\n",
       "      <td>0.949</td>\n",
       "    </tr>\n",
       "  </tbody>\n",
       "</table>\n",
       "</div>"
      ],
      "text/plain": [
       "    alpha   variable  value\n",
       "0    0.10   ABAtrain  0.999\n",
       "1    0.05   ABAtrain  1.000\n",
       "2    0.01   ABAtrain  1.000\n",
       "3    0.00   ABAtrain  1.000\n",
       "4    0.10    ABAtest  0.996\n",
       "5    0.05    ABAtest  0.998\n",
       "6    0.01    ABAtest  0.998\n",
       "7    0.00    ABAtest  0.999\n",
       "8    0.10    STtrain  0.993\n",
       "9    0.05    STtrain  0.999\n",
       "10   0.01    STtrain  1.000\n",
       "11   0.00    STtrain  1.000\n",
       "12   0.10     STtest  0.883\n",
       "13   0.05     STtest  0.885\n",
       "14   0.01     STtest  0.878\n",
       "15   0.00     STtest  0.949"
      ]
     },
     "execution_count": 5,
     "metadata": {},
     "output_type": "execute_result"
    }
   ],
   "source": [
    "withinmeans.head()\n",
    "withinmeans.melt(id_vars='alpha')"
   ]
  },
  {
   "cell_type": "code",
   "execution_count": 9,
   "metadata": {},
   "outputs": [
    {
     "data": {
      "image/png": "[encoded data removed]",
      "text/plain": [
       "<Figure size 432x288 with 1 Axes>"
      ]
     },
     "metadata": {},
     "output_type": "display_data"
    }
   ],
   "source": [
    "sns.pointplot(x='alpha', y='value', hue=\"variable\", palette=['C0','C0','C1','C1'], markers=[\"d\",\"o\",\"d\",\"o\"], data=withinmeans.melt(id_vars='alpha'), dodge=0.4, join=False)\n",
    "plt.ylabel(\"mean AUROC\")\n",
    "plt.xlabel(\"alpha\")\n",
    "plt.ylim([0.5,1.02])\n",
    "plt.legend(loc=[1.1,0.2]) #, title=\"\", title_fontsize=\"16\")\n",
    "plt.savefig(\"051921_1.pdf\", bbox_inches='tight')\n",
    "plt.show()"
   ]
  },
  {
   "cell_type": "code",
   "execution_count": 27,
   "metadata": {},
   "outputs": [
    {
     "data": {
      "image/png": "[encoded data removed]",
      "text/plain": [
       "<Figure size 432x288 with 1 Axes>"
      ]
     },
     "metadata": {},
     "output_type": "display_data"
    }
   ],
   "source": [
    "sns.barplot(x='alpha', y='value', hue=\"variable\", data=withinmeans.melt(id_vars='alpha'))#, dodge=0.3, join=False)\n",
    "plt.ylabel(\"mean AUROC\")\n",
    "plt.xlabel(\"alpha\")\n",
    "plt.legend(loc=[1.1,0.2]) #, title=\"\", title_fontsize=\"16\")\n",
    "plt.ylim([0.5, 1.0])\n",
    "plt.savefig(\"062620_2.pdf\", bbox_inches='tight')\n",
    "plt.show()"
   ]
  }
 ],
 "metadata": {
  "kernelspec": {
   "display_name": "Python 3",
   "language": "python",
   "name": "python3"
  },
  "language_info": {
   "codemirror_mode": {
    "name": "ipython",
    "version": 3
   },
   "file_extension": ".py",
   "mimetype": "text/x-python",
   "name": "python",
   "nbconvert_exporter": "python",
   "pygments_lexer": "ipython3",
   "version": "3.7.3"
  }
 },
 "nbformat": 4,
 "nbformat_minor": 4
}
